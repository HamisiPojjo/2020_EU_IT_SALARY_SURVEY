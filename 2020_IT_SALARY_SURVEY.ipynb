{
 "cells": [
  {
   "attachments": {},
   "cell_type": "markdown",
   "metadata": {},
   "source": [
    "# 2020 IT SALARY SURVEY IN EUROPEAN REGION."
   ]
  },
  {
   "attachments": {},
   "cell_type": "markdown",
   "metadata": {},
   "source": [
    "This is an Exploratory Data Analysis performed on the \"IT Salary Survey for EU region(2018-2020) dataset\"\n",
    "This dataset can be found through the following link https://www.kaggle.com/parulpandey/2020-it-salary-survey-for-eu-region "
   ]
  },
  {
   "cell_type": "code",
   "execution_count": 505,
   "metadata": {},
   "outputs": [],
   "source": [
    "# Importing the required libraries.\n",
    "\n",
    "import pandas as pd\n",
    "import numpy as np\n",
    "import matplotlib.pyplot as plt\n",
    "import seaborn as sns\n"
   ]
  },
  {
   "cell_type": "code",
   "execution_count": 506,
   "metadata": {},
   "outputs": [],
   "source": [
    "# Reading the dataset\n",
    "df_sv20 = pd.read_csv(r\"C:\\Users\\Hermis\\Downloads\\archive (2)/IT Salary Survey EU  2020.csv\")"
   ]
  },
  {
   "cell_type": "code",
   "execution_count": 507,
   "metadata": {},
   "outputs": [
    {
     "data": {
      "text/html": [
       "<div>\n",
       "<style scoped>\n",
       "    .dataframe tbody tr th:only-of-type {\n",
       "        vertical-align: middle;\n",
       "    }\n",
       "\n",
       "    .dataframe tbody tr th {\n",
       "        vertical-align: top;\n",
       "    }\n",
       "\n",
       "    .dataframe thead th {\n",
       "        text-align: right;\n",
       "    }\n",
       "</style>\n",
       "<table border=\"1\" class=\"dataframe\">\n",
       "  <thead>\n",
       "    <tr style=\"text-align: right;\">\n",
       "      <th></th>\n",
       "      <th>Timestamp</th>\n",
       "      <th>Age</th>\n",
       "      <th>Gender</th>\n",
       "      <th>City</th>\n",
       "      <th>Position</th>\n",
       "      <th>Total years of experience</th>\n",
       "      <th>Years of experience in Germany</th>\n",
       "      <th>Seniority level</th>\n",
       "      <th>Your main technology / programming language</th>\n",
       "      <th>Other technologies/programming languages you use often</th>\n",
       "      <th>...</th>\n",
       "      <th>Annual bonus+stocks one year ago. Only answer if staying in same country</th>\n",
       "      <th>Number of vacation days</th>\n",
       "      <th>Employment status</th>\n",
       "      <th>Сontract duration</th>\n",
       "      <th>Main language at work</th>\n",
       "      <th>Company size</th>\n",
       "      <th>Company type</th>\n",
       "      <th>Have you lost your job due to the coronavirus outbreak?</th>\n",
       "      <th>Have you been forced to have a shorter working week (Kurzarbeit)? If yes, how many hours per week</th>\n",
       "      <th>Have you received additional monetary support from your employer due to Work From Home? If yes, how much in 2020 in EUR</th>\n",
       "    </tr>\n",
       "  </thead>\n",
       "  <tbody>\n",
       "    <tr>\n",
       "      <th>0</th>\n",
       "      <td>24/11/2020 11:14:15</td>\n",
       "      <td>26.0</td>\n",
       "      <td>Male</td>\n",
       "      <td>Munich</td>\n",
       "      <td>Software Engineer</td>\n",
       "      <td>5</td>\n",
       "      <td>3</td>\n",
       "      <td>Senior</td>\n",
       "      <td>TypeScript</td>\n",
       "      <td>Kotlin, Javascript / Typescript</td>\n",
       "      <td>...</td>\n",
       "      <td>10000</td>\n",
       "      <td>30</td>\n",
       "      <td>Full-time employee</td>\n",
       "      <td>Unlimited contract</td>\n",
       "      <td>English</td>\n",
       "      <td>51-100</td>\n",
       "      <td>Product</td>\n",
       "      <td>No</td>\n",
       "      <td>NaN</td>\n",
       "      <td>NaN</td>\n",
       "    </tr>\n",
       "    <tr>\n",
       "      <th>1</th>\n",
       "      <td>24/11/2020 11:14:16</td>\n",
       "      <td>26.0</td>\n",
       "      <td>Male</td>\n",
       "      <td>Berlin</td>\n",
       "      <td>Backend Developer</td>\n",
       "      <td>7</td>\n",
       "      <td>4</td>\n",
       "      <td>Senior</td>\n",
       "      <td>Ruby</td>\n",
       "      <td>NaN</td>\n",
       "      <td>...</td>\n",
       "      <td>5000</td>\n",
       "      <td>28</td>\n",
       "      <td>Full-time employee</td>\n",
       "      <td>Unlimited contract</td>\n",
       "      <td>English</td>\n",
       "      <td>101-1000</td>\n",
       "      <td>Product</td>\n",
       "      <td>No</td>\n",
       "      <td>NaN</td>\n",
       "      <td>NaN</td>\n",
       "    </tr>\n",
       "    <tr>\n",
       "      <th>2</th>\n",
       "      <td>24/11/2020 11:14:21</td>\n",
       "      <td>29.0</td>\n",
       "      <td>Male</td>\n",
       "      <td>Berlin</td>\n",
       "      <td>Software Engineer</td>\n",
       "      <td>12</td>\n",
       "      <td>6</td>\n",
       "      <td>Lead</td>\n",
       "      <td>Javascript / Typescript</td>\n",
       "      <td>Javascript / Typescript, Docker</td>\n",
       "      <td>...</td>\n",
       "      <td>100000</td>\n",
       "      <td>30</td>\n",
       "      <td>Self-employed (freelancer)</td>\n",
       "      <td>Temporary contract</td>\n",
       "      <td>English</td>\n",
       "      <td>101-1000</td>\n",
       "      <td>Product</td>\n",
       "      <td>Yes</td>\n",
       "      <td>NaN</td>\n",
       "      <td>NaN</td>\n",
       "    </tr>\n",
       "    <tr>\n",
       "      <th>3</th>\n",
       "      <td>24/11/2020 11:15:24</td>\n",
       "      <td>28.0</td>\n",
       "      <td>Male</td>\n",
       "      <td>Berlin</td>\n",
       "      <td>Frontend Developer</td>\n",
       "      <td>4</td>\n",
       "      <td>1</td>\n",
       "      <td>Junior</td>\n",
       "      <td>Javascript</td>\n",
       "      <td>NaN</td>\n",
       "      <td>...</td>\n",
       "      <td>NaN</td>\n",
       "      <td>24</td>\n",
       "      <td>Full-time employee</td>\n",
       "      <td>Unlimited contract</td>\n",
       "      <td>English</td>\n",
       "      <td>51-100</td>\n",
       "      <td>Startup</td>\n",
       "      <td>No</td>\n",
       "      <td>NaN</td>\n",
       "      <td>NaN</td>\n",
       "    </tr>\n",
       "    <tr>\n",
       "      <th>4</th>\n",
       "      <td>24/11/2020 11:15:46</td>\n",
       "      <td>37.0</td>\n",
       "      <td>Male</td>\n",
       "      <td>Berlin</td>\n",
       "      <td>Backend Developer</td>\n",
       "      <td>17</td>\n",
       "      <td>6</td>\n",
       "      <td>Senior</td>\n",
       "      <td>C# .NET</td>\n",
       "      <td>.NET, SQL, AWS, Docker</td>\n",
       "      <td>...</td>\n",
       "      <td>NaN</td>\n",
       "      <td>29</td>\n",
       "      <td>Full-time employee</td>\n",
       "      <td>Unlimited contract</td>\n",
       "      <td>English</td>\n",
       "      <td>101-1000</td>\n",
       "      <td>Product</td>\n",
       "      <td>No</td>\n",
       "      <td>NaN</td>\n",
       "      <td>NaN</td>\n",
       "    </tr>\n",
       "    <tr>\n",
       "      <th>...</th>\n",
       "      <td>...</td>\n",
       "      <td>...</td>\n",
       "      <td>...</td>\n",
       "      <td>...</td>\n",
       "      <td>...</td>\n",
       "      <td>...</td>\n",
       "      <td>...</td>\n",
       "      <td>...</td>\n",
       "      <td>...</td>\n",
       "      <td>...</td>\n",
       "      <td>...</td>\n",
       "      <td>...</td>\n",
       "      <td>...</td>\n",
       "      <td>...</td>\n",
       "      <td>...</td>\n",
       "      <td>...</td>\n",
       "      <td>...</td>\n",
       "      <td>...</td>\n",
       "      <td>...</td>\n",
       "      <td>...</td>\n",
       "      <td>...</td>\n",
       "    </tr>\n",
       "    <tr>\n",
       "      <th>1248</th>\n",
       "      <td>18/01/2021 15:05:50</td>\n",
       "      <td>31.0</td>\n",
       "      <td>Male</td>\n",
       "      <td>Berlin</td>\n",
       "      <td>Backend Developer</td>\n",
       "      <td>9</td>\n",
       "      <td>5</td>\n",
       "      <td>Senior</td>\n",
       "      <td>Java</td>\n",
       "      <td>Python, Javascript / Typescript, Java / Scala,...</td>\n",
       "      <td>...</td>\n",
       "      <td>72000</td>\n",
       "      <td>26</td>\n",
       "      <td>Full-time employee</td>\n",
       "      <td>Unlimited contract</td>\n",
       "      <td>English</td>\n",
       "      <td>51-100</td>\n",
       "      <td>Product</td>\n",
       "      <td>Yes</td>\n",
       "      <td>NaN</td>\n",
       "      <td>NaN</td>\n",
       "    </tr>\n",
       "    <tr>\n",
       "      <th>1249</th>\n",
       "      <td>18/01/2021 17:46:02</td>\n",
       "      <td>33.0</td>\n",
       "      <td>Male</td>\n",
       "      <td>Berlin</td>\n",
       "      <td>Researcher/ Consumer Insights Analyst</td>\n",
       "      <td>10</td>\n",
       "      <td>1.5</td>\n",
       "      <td>Senior</td>\n",
       "      <td>consumer analysis</td>\n",
       "      <td>NaN</td>\n",
       "      <td>...</td>\n",
       "      <td>2500</td>\n",
       "      <td>unlimited</td>\n",
       "      <td>Full-time employee</td>\n",
       "      <td>Unlimited contract</td>\n",
       "      <td>English</td>\n",
       "      <td>1000+</td>\n",
       "      <td>Product</td>\n",
       "      <td>No</td>\n",
       "      <td>NaN</td>\n",
       "      <td>0</td>\n",
       "    </tr>\n",
       "    <tr>\n",
       "      <th>1250</th>\n",
       "      <td>18/01/2021 23:20:35</td>\n",
       "      <td>39.0</td>\n",
       "      <td>Male</td>\n",
       "      <td>Munich</td>\n",
       "      <td>IT Operations Manager</td>\n",
       "      <td>15</td>\n",
       "      <td>2</td>\n",
       "      <td>Lead</td>\n",
       "      <td>PHP</td>\n",
       "      <td>Python, C/C++, Javascript / Typescript, Java /...</td>\n",
       "      <td>...</td>\n",
       "      <td>NaN</td>\n",
       "      <td>28</td>\n",
       "      <td>Full-time employee</td>\n",
       "      <td>Unlimited contract</td>\n",
       "      <td>English</td>\n",
       "      <td>101-1000</td>\n",
       "      <td>eCommerce</td>\n",
       "      <td>No</td>\n",
       "      <td>NaN</td>\n",
       "      <td>NaN</td>\n",
       "    </tr>\n",
       "    <tr>\n",
       "      <th>1251</th>\n",
       "      <td>19/01/2021 10:17:58</td>\n",
       "      <td>26.0</td>\n",
       "      <td>Male</td>\n",
       "      <td>Saarbrücken</td>\n",
       "      <td>Frontend Developer</td>\n",
       "      <td>7</td>\n",
       "      <td>7</td>\n",
       "      <td>Middle</td>\n",
       "      <td>JavaScript</td>\n",
       "      <td>Javascript / Typescript, Docker, HTML, CSS; Ad...</td>\n",
       "      <td>...</td>\n",
       "      <td>36400</td>\n",
       "      <td>27</td>\n",
       "      <td>Full-time employee</td>\n",
       "      <td>Unlimited contract</td>\n",
       "      <td>German</td>\n",
       "      <td>101-1000</td>\n",
       "      <td>Product</td>\n",
       "      <td>No</td>\n",
       "      <td>NaN</td>\n",
       "      <td>0</td>\n",
       "    </tr>\n",
       "    <tr>\n",
       "      <th>1252</th>\n",
       "      <td>19/01/2021 12:01:11</td>\n",
       "      <td>26.0</td>\n",
       "      <td>Male</td>\n",
       "      <td>Berlin</td>\n",
       "      <td>DevOps</td>\n",
       "      <td>2</td>\n",
       "      <td>2</td>\n",
       "      <td>Middle</td>\n",
       "      <td>yaml</td>\n",
       "      <td>Python, AWS, Kubernetes, Docker, terraform, an...</td>\n",
       "      <td>...</td>\n",
       "      <td>0</td>\n",
       "      <td>30</td>\n",
       "      <td>Full-time employee</td>\n",
       "      <td>Unlimited contract</td>\n",
       "      <td>English</td>\n",
       "      <td>51-100</td>\n",
       "      <td>Startup</td>\n",
       "      <td>No</td>\n",
       "      <td>30.0</td>\n",
       "      <td>600</td>\n",
       "    </tr>\n",
       "  </tbody>\n",
       "</table>\n",
       "<p>1253 rows × 23 columns</p>\n",
       "</div>"
      ],
      "text/plain": [
       "                Timestamp   Age Gender         City  \\\n",
       "0     24/11/2020 11:14:15  26.0   Male       Munich   \n",
       "1     24/11/2020 11:14:16  26.0   Male       Berlin   \n",
       "2     24/11/2020 11:14:21  29.0   Male       Berlin   \n",
       "3     24/11/2020 11:15:24  28.0   Male       Berlin   \n",
       "4     24/11/2020 11:15:46  37.0   Male       Berlin   \n",
       "...                   ...   ...    ...          ...   \n",
       "1248  18/01/2021 15:05:50  31.0   Male       Berlin   \n",
       "1249  18/01/2021 17:46:02  33.0   Male       Berlin   \n",
       "1250  18/01/2021 23:20:35  39.0   Male       Munich   \n",
       "1251  19/01/2021 10:17:58  26.0   Male  Saarbrücken   \n",
       "1252  19/01/2021 12:01:11  26.0   Male       Berlin   \n",
       "\n",
       "                                   Position  Total years of experience  \\\n",
       "0                          Software Engineer                         5   \n",
       "1                          Backend Developer                         7   \n",
       "2                          Software Engineer                        12   \n",
       "3                         Frontend Developer                         4   \n",
       "4                          Backend Developer                        17   \n",
       "...                                      ...                       ...   \n",
       "1248                       Backend Developer                         9   \n",
       "1249  Researcher/ Consumer Insights Analyst                         10   \n",
       "1250                   IT Operations Manager                        15   \n",
       "1251                      Frontend Developer                         7   \n",
       "1252                                  DevOps                         2   \n",
       "\n",
       "     Years of experience in Germany Seniority level  \\\n",
       "0                                 3          Senior   \n",
       "1                                 4          Senior   \n",
       "2                                 6            Lead   \n",
       "3                                 1          Junior   \n",
       "4                                 6          Senior   \n",
       "...                             ...             ...   \n",
       "1248                              5          Senior   \n",
       "1249                            1.5          Senior   \n",
       "1250                              2            Lead   \n",
       "1251                              7          Middle   \n",
       "1252                              2          Middle   \n",
       "\n",
       "     Your main technology / programming language  \\\n",
       "0                                     TypeScript   \n",
       "1                                           Ruby   \n",
       "2                        Javascript / Typescript   \n",
       "3                                     Javascript   \n",
       "4                                        C# .NET   \n",
       "...                                          ...   \n",
       "1248                                        Java   \n",
       "1249                           consumer analysis   \n",
       "1250                                         PHP   \n",
       "1251                                  JavaScript   \n",
       "1252                                        yaml   \n",
       "\n",
       "     Other technologies/programming languages you use often  ...  \\\n",
       "0                       Kotlin, Javascript / Typescript      ...   \n",
       "1                                                   NaN      ...   \n",
       "2                       Javascript / Typescript, Docker      ...   \n",
       "3                                                   NaN      ...   \n",
       "4                                .NET, SQL, AWS, Docker      ...   \n",
       "...                                                 ...      ...   \n",
       "1248  Python, Javascript / Typescript, Java / Scala,...      ...   \n",
       "1249                                                NaN      ...   \n",
       "1250  Python, C/C++, Javascript / Typescript, Java /...      ...   \n",
       "1251  Javascript / Typescript, Docker, HTML, CSS; Ad...      ...   \n",
       "1252  Python, AWS, Kubernetes, Docker, terraform, an...      ...   \n",
       "\n",
       "      Annual bonus+stocks one year ago. Only answer if staying in same country  \\\n",
       "0                                                 10000                          \n",
       "1                                                  5000                          \n",
       "2                                                100000                          \n",
       "3                                                   NaN                          \n",
       "4                                                   NaN                          \n",
       "...                                                 ...                          \n",
       "1248                                              72000                          \n",
       "1249                                               2500                          \n",
       "1250                                                NaN                          \n",
       "1251                                              36400                          \n",
       "1252                                                  0                          \n",
       "\n",
       "     Number of vacation days           Employment status   Сontract duration  \\\n",
       "0                         30          Full-time employee  Unlimited contract   \n",
       "1                         28          Full-time employee  Unlimited contract   \n",
       "2                         30  Self-employed (freelancer)  Temporary contract   \n",
       "3                         24          Full-time employee  Unlimited contract   \n",
       "4                         29          Full-time employee  Unlimited contract   \n",
       "...                      ...                         ...                 ...   \n",
       "1248                      26          Full-time employee  Unlimited contract   \n",
       "1249              unlimited           Full-time employee  Unlimited contract   \n",
       "1250                      28          Full-time employee  Unlimited contract   \n",
       "1251                      27          Full-time employee  Unlimited contract   \n",
       "1252                      30          Full-time employee  Unlimited contract   \n",
       "\n",
       "     Main language at work Company size Company type  \\\n",
       "0                  English       51-100      Product   \n",
       "1                  English     101-1000      Product   \n",
       "2                  English     101-1000      Product   \n",
       "3                  English       51-100      Startup   \n",
       "4                  English     101-1000      Product   \n",
       "...                    ...          ...          ...   \n",
       "1248               English       51-100      Product   \n",
       "1249               English        1000+      Product   \n",
       "1250               English     101-1000    eCommerce   \n",
       "1251                German     101-1000      Product   \n",
       "1252               English       51-100      Startup   \n",
       "\n",
       "     Have you lost your job due to the coronavirus outbreak?  \\\n",
       "0                                                    No        \n",
       "1                                                    No        \n",
       "2                                                   Yes        \n",
       "3                                                    No        \n",
       "4                                                    No        \n",
       "...                                                 ...        \n",
       "1248                                                Yes        \n",
       "1249                                                 No        \n",
       "1250                                                 No        \n",
       "1251                                                 No        \n",
       "1252                                                 No        \n",
       "\n",
       "     Have you been forced to have a shorter working week (Kurzarbeit)? If yes, how many hours per week  \\\n",
       "0                                                   NaN                                                  \n",
       "1                                                   NaN                                                  \n",
       "2                                                   NaN                                                  \n",
       "3                                                   NaN                                                  \n",
       "4                                                   NaN                                                  \n",
       "...                                                 ...                                                  \n",
       "1248                                                NaN                                                  \n",
       "1249                                                NaN                                                  \n",
       "1250                                                NaN                                                  \n",
       "1251                                                NaN                                                  \n",
       "1252                                               30.0                                                  \n",
       "\n",
       "     Have you received additional monetary support from your employer due to Work From Home? If yes, how much in 2020 in EUR  \n",
       "0                                                   NaN                                                                       \n",
       "1                                                   NaN                                                                       \n",
       "2                                                   NaN                                                                       \n",
       "3                                                   NaN                                                                       \n",
       "4                                                   NaN                                                                       \n",
       "...                                                 ...                                                                       \n",
       "1248                                                NaN                                                                       \n",
       "1249                                                  0                                                                       \n",
       "1250                                                NaN                                                                       \n",
       "1251                                                  0                                                                       \n",
       "1252                                                600                                                                       \n",
       "\n",
       "[1253 rows x 23 columns]"
      ]
     },
     "execution_count": 507,
     "metadata": {},
     "output_type": "execute_result"
    }
   ],
   "source": [
    "# Viewing the 2020 dataset\n",
    "df_sv20"
   ]
  },
  {
   "cell_type": "code",
   "execution_count": 508,
   "metadata": {},
   "outputs": [
    {
     "name": "stdout",
     "output_type": "stream",
     "text": [
      "<class 'pandas.core.frame.DataFrame'>\n",
      "RangeIndex: 1253 entries, 0 to 1252\n",
      "Data columns (total 23 columns):\n",
      " #   Column                                                                                                                   Non-Null Count  Dtype  \n",
      "---  ------                                                                                                                   --------------  -----  \n",
      " 0   Timestamp                                                                                                                1253 non-null   object \n",
      " 1   Age                                                                                                                      1226 non-null   float64\n",
      " 2   Gender                                                                                                                   1243 non-null   object \n",
      " 3   City                                                                                                                     1253 non-null   object \n",
      " 4   Position                                                                                                                 1247 non-null   object \n",
      " 5   Total years of experience                                                                                                1237 non-null   object \n",
      " 6   Years of experience in Germany                                                                                           1221 non-null   object \n",
      " 7   Seniority level                                                                                                          1241 non-null   object \n",
      " 8   Your main technology / programming language                                                                              1126 non-null   object \n",
      " 9   Other technologies/programming languages you use often                                                                   1096 non-null   object \n",
      " 10  Yearly brutto salary (without bonus and stocks) in EUR                                                                   1253 non-null   float64\n",
      " 11  Yearly bonus + stocks in EUR                                                                                             829 non-null    object \n",
      " 12  Annual brutto salary (without bonus and stocks) one year ago. Only answer if staying in the same country                 885 non-null    float64\n",
      " 13  Annual bonus+stocks one year ago. Only answer if staying in same country                                                 614 non-null    object \n",
      " 14  Number of vacation days                                                                                                  1185 non-null   object \n",
      " 15  Employment status                                                                                                        1236 non-null   object \n",
      " 16  Сontract duration                                                                                                        1224 non-null   object \n",
      " 17  Main language at work                                                                                                    1237 non-null   object \n",
      " 18  Company size                                                                                                             1235 non-null   object \n",
      " 19  Company type                                                                                                             1228 non-null   object \n",
      " 20  Have you lost your job due to the coronavirus outbreak?                                                                  1233 non-null   object \n",
      " 21  Have you been forced to have a shorter working week (Kurzarbeit)? If yes, how many hours per week                        373 non-null    float64\n",
      " 22  Have you received additional monetary support from your employer due to Work From Home? If yes, how much in 2020 in EUR  462 non-null    object \n",
      "dtypes: float64(4), object(19)\n",
      "memory usage: 225.3+ KB\n"
     ]
    }
   ],
   "source": [
    "# Checking the datatype and Non-Null count\n",
    "df_sv20.info()"
   ]
  },
  {
   "attachments": {},
   "cell_type": "markdown",
   "metadata": {},
   "source": [
    "Before we start our cleaning process, lets fast make a copy of our datset"
   ]
  },
  {
   "cell_type": "code",
   "execution_count": 509,
   "metadata": {},
   "outputs": [],
   "source": [
    "#Making copies of our datasets\n",
    "\n",
    "\n",
    "df_sv20a =df_sv20.copy()\n"
   ]
  },
  {
   "attachments": {},
   "cell_type": "markdown",
   "metadata": {},
   "source": [
    "Some column names are long and do not conform to python naming standards, so our first step is we rename the columns"
   ]
  },
  {
   "attachments": {},
   "cell_type": "markdown",
   "metadata": {},
   "source": [
    "### 1. Renaming the columns"
   ]
  },
  {
   "cell_type": "code",
   "execution_count": 510,
   "metadata": {},
   "outputs": [],
   "source": [
    "df_sv20a.rename(columns={'Total years of experience': 'experience',\n",
    "                   'Years of experience in Germany': 'germany_experience',\n",
    "                   'Position ' : 'position',\n",
    "                   'Seniority level': 'seniority_level',\n",
    "                   'Your main technology / programming language':'Main_PL',\n",
    "                   'Other technologies/programming languages you use often':'other_PL',\n",
    "                   'Yearly brutto salary (without bonus and stocks) in EUR':'yearly_gross_salary_in_EUR',\n",
    "                   'Yearly bonus + stocks in EUR': 'yearly_bonus_&_stocks_in_EUR',\n",
    "                   'Annual brutto salary (without bonus and stocks) one year ago. Only answer if staying in the same country': 'annual_gross_salary_without_bonus_and_stock_one_year_ago',\n",
    "                   'Annual bonus+stocks one year ago. Only answer if staying in same country': 'annual_bonus_&_stocks_one_year_ago',\n",
    "                   'Number of vacation days': 'vacation_days',\n",
    "                   'Employment status':'employment_status',\n",
    "                   'Сontract duration': 'contract_duration',\n",
    "                   'Main language at work': 'main_language_at_work',\n",
    "                   'Company size' : 'company_size',\n",
    "                   'Company type':'company_type',\n",
    "                   'Have you lost your job due to the coronavirus outbreak?' : 'lost_job_covid',\n",
    "                   'Have you been forced to have a shorter working week (Kurzarbeit)? If yes, how many hours per week' :'shorter_working_week_hours_perweek_(kurzabeit)',\n",
    "                   'Have you received additional monetary support from your employer due to Work From Home? If yes, how much in 2020 in EUR' : 'work_from_home_monitory_support_in_EUR'},\n",
    "\n",
    "          inplace=True, errors='raise')"
   ]
  },
  {
   "cell_type": "code",
   "execution_count": 511,
   "metadata": {},
   "outputs": [
    {
     "name": "stdout",
     "output_type": "stream",
     "text": [
      "<class 'pandas.core.frame.DataFrame'>\n",
      "RangeIndex: 1253 entries, 0 to 1252\n",
      "Data columns (total 23 columns):\n",
      " #   Column                                                    Non-Null Count  Dtype  \n",
      "---  ------                                                    --------------  -----  \n",
      " 0   Timestamp                                                 1253 non-null   object \n",
      " 1   Age                                                       1226 non-null   float64\n",
      " 2   Gender                                                    1243 non-null   object \n",
      " 3   City                                                      1253 non-null   object \n",
      " 4   position                                                  1247 non-null   object \n",
      " 5   experience                                                1237 non-null   object \n",
      " 6   germany_experience                                        1221 non-null   object \n",
      " 7   seniority_level                                           1241 non-null   object \n",
      " 8   Main_PL                                                   1126 non-null   object \n",
      " 9   other_PL                                                  1096 non-null   object \n",
      " 10  yearly_gross_salary_in_EUR                                1253 non-null   float64\n",
      " 11  yearly_bonus_&_stocks_in_EUR                              829 non-null    object \n",
      " 12  annual_gross_salary_without_bonus_and_stock_one_year_ago  885 non-null    float64\n",
      " 13  annual_bonus_&_stocks_one_year_ago                        614 non-null    object \n",
      " 14  vacation_days                                             1185 non-null   object \n",
      " 15  employment_status                                         1236 non-null   object \n",
      " 16  contract_duration                                         1224 non-null   object \n",
      " 17  main_language_at_work                                     1237 non-null   object \n",
      " 18  company_size                                              1235 non-null   object \n",
      " 19  company_type                                              1228 non-null   object \n",
      " 20  lost_job_covid                                            1233 non-null   object \n",
      " 21  shorter_working_week_hours_perweek_(kurzabeit)            373 non-null    float64\n",
      " 22  work_from_home_monitory_support_in_EUR                    462 non-null    object \n",
      "dtypes: float64(4), object(19)\n",
      "memory usage: 225.3+ KB\n"
     ]
    }
   ],
   "source": [
    "\n",
    "df_sv20a.info()"
   ]
  },
  {
   "cell_type": "code",
   "execution_count": 512,
   "metadata": {},
   "outputs": [
    {
     "data": {
      "text/plain": [
       "0"
      ]
     },
     "execution_count": 512,
     "metadata": {},
     "output_type": "execute_result"
    }
   ],
   "source": [
    "# Lets check if wwe have duplicated data.\n",
    "df_sv20a.duplicated().sum()"
   ]
  },
  {
   "attachments": {},
   "cell_type": "markdown",
   "metadata": {},
   "source": [
    "There are no duplicates on our dataset."
   ]
  },
  {
   "cell_type": "code",
   "execution_count": 513,
   "metadata": {},
   "outputs": [
    {
     "data": {
      "text/plain": [
       "Timestamp                                                     0\n",
       "Age                                                          27\n",
       "Gender                                                       10\n",
       "City                                                          0\n",
       "position                                                      6\n",
       "experience                                                   16\n",
       "germany_experience                                           32\n",
       "seniority_level                                              12\n",
       "Main_PL                                                     127\n",
       "other_PL                                                    157\n",
       "yearly_gross_salary_in_EUR                                    0\n",
       "yearly_bonus_&_stocks_in_EUR                                424\n",
       "annual_gross_salary_without_bonus_and_stock_one_year_ago    368\n",
       "annual_bonus_&_stocks_one_year_ago                          639\n",
       "vacation_days                                                68\n",
       "employment_status                                            17\n",
       "contract_duration                                            29\n",
       "main_language_at_work                                        16\n",
       "company_size                                                 18\n",
       "company_type                                                 25\n",
       "lost_job_covid                                               20\n",
       "shorter_working_week_hours_perweek_(kurzabeit)              880\n",
       "work_from_home_monitory_support_in_EUR                      791\n",
       "dtype: int64"
      ]
     },
     "execution_count": 513,
     "metadata": {},
     "output_type": "execute_result"
    }
   ],
   "source": [
    "# Checking the count for null values in the dataset\n",
    "df_sv20a.isna().sum()"
   ]
  },
  {
   "attachments": {},
   "cell_type": "markdown",
   "metadata": {},
   "source": [
    "From the assesment above we can note that some coulmns have a lot of empty spaces. This is because some of the questions were optional, we are going to drop the columns with optional questions, so that we can perform a holistic EDA.\n",
    "Furthermore, we shall drop columns which we wont use on our EDA.\n"
   ]
  },
  {
   "cell_type": "code",
   "execution_count": 514,
   "metadata": {},
   "outputs": [],
   "source": [
    "df_sv20a.drop(['Timestamp','germany_experience','other_PL','annual_gross_salary_without_bonus_and_stock_one_year_ago', 'annual_bonus_&_stocks_one_year_ago', 'shorter_working_week_hours_perweek_(kurzabeit)', 'work_from_home_monitory_support_in_EUR', 'yearly_bonus_&_stocks_in_EUR'], axis=1, inplace=True)"
   ]
  },
  {
   "cell_type": "code",
   "execution_count": 515,
   "metadata": {},
   "outputs": [
    {
     "data": {
      "text/html": [
       "<div>\n",
       "<style scoped>\n",
       "    .dataframe tbody tr th:only-of-type {\n",
       "        vertical-align: middle;\n",
       "    }\n",
       "\n",
       "    .dataframe tbody tr th {\n",
       "        vertical-align: top;\n",
       "    }\n",
       "\n",
       "    .dataframe thead th {\n",
       "        text-align: right;\n",
       "    }\n",
       "</style>\n",
       "<table border=\"1\" class=\"dataframe\">\n",
       "  <thead>\n",
       "    <tr style=\"text-align: right;\">\n",
       "      <th></th>\n",
       "      <th>Age</th>\n",
       "      <th>Gender</th>\n",
       "      <th>City</th>\n",
       "      <th>position</th>\n",
       "      <th>experience</th>\n",
       "      <th>seniority_level</th>\n",
       "      <th>Main_PL</th>\n",
       "      <th>yearly_gross_salary_in_EUR</th>\n",
       "      <th>vacation_days</th>\n",
       "      <th>employment_status</th>\n",
       "      <th>contract_duration</th>\n",
       "      <th>main_language_at_work</th>\n",
       "      <th>company_size</th>\n",
       "      <th>company_type</th>\n",
       "      <th>lost_job_covid</th>\n",
       "    </tr>\n",
       "  </thead>\n",
       "  <tbody>\n",
       "    <tr>\n",
       "      <th>0</th>\n",
       "      <td>26.0</td>\n",
       "      <td>Male</td>\n",
       "      <td>Munich</td>\n",
       "      <td>Software Engineer</td>\n",
       "      <td>5</td>\n",
       "      <td>Senior</td>\n",
       "      <td>TypeScript</td>\n",
       "      <td>80000.0</td>\n",
       "      <td>30</td>\n",
       "      <td>Full-time employee</td>\n",
       "      <td>Unlimited contract</td>\n",
       "      <td>English</td>\n",
       "      <td>51-100</td>\n",
       "      <td>Product</td>\n",
       "      <td>No</td>\n",
       "    </tr>\n",
       "    <tr>\n",
       "      <th>1</th>\n",
       "      <td>26.0</td>\n",
       "      <td>Male</td>\n",
       "      <td>Berlin</td>\n",
       "      <td>Backend Developer</td>\n",
       "      <td>7</td>\n",
       "      <td>Senior</td>\n",
       "      <td>Ruby</td>\n",
       "      <td>80000.0</td>\n",
       "      <td>28</td>\n",
       "      <td>Full-time employee</td>\n",
       "      <td>Unlimited contract</td>\n",
       "      <td>English</td>\n",
       "      <td>101-1000</td>\n",
       "      <td>Product</td>\n",
       "      <td>No</td>\n",
       "    </tr>\n",
       "    <tr>\n",
       "      <th>2</th>\n",
       "      <td>29.0</td>\n",
       "      <td>Male</td>\n",
       "      <td>Berlin</td>\n",
       "      <td>Software Engineer</td>\n",
       "      <td>12</td>\n",
       "      <td>Lead</td>\n",
       "      <td>Javascript / Typescript</td>\n",
       "      <td>120000.0</td>\n",
       "      <td>30</td>\n",
       "      <td>Self-employed (freelancer)</td>\n",
       "      <td>Temporary contract</td>\n",
       "      <td>English</td>\n",
       "      <td>101-1000</td>\n",
       "      <td>Product</td>\n",
       "      <td>Yes</td>\n",
       "    </tr>\n",
       "    <tr>\n",
       "      <th>3</th>\n",
       "      <td>28.0</td>\n",
       "      <td>Male</td>\n",
       "      <td>Berlin</td>\n",
       "      <td>Frontend Developer</td>\n",
       "      <td>4</td>\n",
       "      <td>Junior</td>\n",
       "      <td>Javascript</td>\n",
       "      <td>54000.0</td>\n",
       "      <td>24</td>\n",
       "      <td>Full-time employee</td>\n",
       "      <td>Unlimited contract</td>\n",
       "      <td>English</td>\n",
       "      <td>51-100</td>\n",
       "      <td>Startup</td>\n",
       "      <td>No</td>\n",
       "    </tr>\n",
       "    <tr>\n",
       "      <th>4</th>\n",
       "      <td>37.0</td>\n",
       "      <td>Male</td>\n",
       "      <td>Berlin</td>\n",
       "      <td>Backend Developer</td>\n",
       "      <td>17</td>\n",
       "      <td>Senior</td>\n",
       "      <td>C# .NET</td>\n",
       "      <td>62000.0</td>\n",
       "      <td>29</td>\n",
       "      <td>Full-time employee</td>\n",
       "      <td>Unlimited contract</td>\n",
       "      <td>English</td>\n",
       "      <td>101-1000</td>\n",
       "      <td>Product</td>\n",
       "      <td>No</td>\n",
       "    </tr>\n",
       "    <tr>\n",
       "      <th>...</th>\n",
       "      <td>...</td>\n",
       "      <td>...</td>\n",
       "      <td>...</td>\n",
       "      <td>...</td>\n",
       "      <td>...</td>\n",
       "      <td>...</td>\n",
       "      <td>...</td>\n",
       "      <td>...</td>\n",
       "      <td>...</td>\n",
       "      <td>...</td>\n",
       "      <td>...</td>\n",
       "      <td>...</td>\n",
       "      <td>...</td>\n",
       "      <td>...</td>\n",
       "      <td>...</td>\n",
       "    </tr>\n",
       "    <tr>\n",
       "      <th>1248</th>\n",
       "      <td>31.0</td>\n",
       "      <td>Male</td>\n",
       "      <td>Berlin</td>\n",
       "      <td>Backend Developer</td>\n",
       "      <td>9</td>\n",
       "      <td>Senior</td>\n",
       "      <td>Java</td>\n",
       "      <td>70000.0</td>\n",
       "      <td>26</td>\n",
       "      <td>Full-time employee</td>\n",
       "      <td>Unlimited contract</td>\n",
       "      <td>English</td>\n",
       "      <td>51-100</td>\n",
       "      <td>Product</td>\n",
       "      <td>Yes</td>\n",
       "    </tr>\n",
       "    <tr>\n",
       "      <th>1249</th>\n",
       "      <td>33.0</td>\n",
       "      <td>Male</td>\n",
       "      <td>Berlin</td>\n",
       "      <td>Researcher/ Consumer Insights Analyst</td>\n",
       "      <td>10</td>\n",
       "      <td>Senior</td>\n",
       "      <td>consumer analysis</td>\n",
       "      <td>60000.0</td>\n",
       "      <td>unlimited</td>\n",
       "      <td>Full-time employee</td>\n",
       "      <td>Unlimited contract</td>\n",
       "      <td>English</td>\n",
       "      <td>1000+</td>\n",
       "      <td>Product</td>\n",
       "      <td>No</td>\n",
       "    </tr>\n",
       "    <tr>\n",
       "      <th>1250</th>\n",
       "      <td>39.0</td>\n",
       "      <td>Male</td>\n",
       "      <td>Munich</td>\n",
       "      <td>IT Operations Manager</td>\n",
       "      <td>15</td>\n",
       "      <td>Lead</td>\n",
       "      <td>PHP</td>\n",
       "      <td>110000.0</td>\n",
       "      <td>28</td>\n",
       "      <td>Full-time employee</td>\n",
       "      <td>Unlimited contract</td>\n",
       "      <td>English</td>\n",
       "      <td>101-1000</td>\n",
       "      <td>eCommerce</td>\n",
       "      <td>No</td>\n",
       "    </tr>\n",
       "    <tr>\n",
       "      <th>1251</th>\n",
       "      <td>26.0</td>\n",
       "      <td>Male</td>\n",
       "      <td>Saarbrücken</td>\n",
       "      <td>Frontend Developer</td>\n",
       "      <td>7</td>\n",
       "      <td>Middle</td>\n",
       "      <td>JavaScript</td>\n",
       "      <td>38350.0</td>\n",
       "      <td>27</td>\n",
       "      <td>Full-time employee</td>\n",
       "      <td>Unlimited contract</td>\n",
       "      <td>German</td>\n",
       "      <td>101-1000</td>\n",
       "      <td>Product</td>\n",
       "      <td>No</td>\n",
       "    </tr>\n",
       "    <tr>\n",
       "      <th>1252</th>\n",
       "      <td>26.0</td>\n",
       "      <td>Male</td>\n",
       "      <td>Berlin</td>\n",
       "      <td>DevOps</td>\n",
       "      <td>2</td>\n",
       "      <td>Middle</td>\n",
       "      <td>yaml</td>\n",
       "      <td>65000.0</td>\n",
       "      <td>30</td>\n",
       "      <td>Full-time employee</td>\n",
       "      <td>Unlimited contract</td>\n",
       "      <td>English</td>\n",
       "      <td>51-100</td>\n",
       "      <td>Startup</td>\n",
       "      <td>No</td>\n",
       "    </tr>\n",
       "  </tbody>\n",
       "</table>\n",
       "<p>1253 rows × 15 columns</p>\n",
       "</div>"
      ],
      "text/plain": [
       "       Age Gender         City                                position  \\\n",
       "0     26.0   Male       Munich                       Software Engineer   \n",
       "1     26.0   Male       Berlin                       Backend Developer   \n",
       "2     29.0   Male       Berlin                       Software Engineer   \n",
       "3     28.0   Male       Berlin                      Frontend Developer   \n",
       "4     37.0   Male       Berlin                       Backend Developer   \n",
       "...    ...    ...          ...                                     ...   \n",
       "1248  31.0   Male       Berlin                       Backend Developer   \n",
       "1249  33.0   Male       Berlin  Researcher/ Consumer Insights Analyst    \n",
       "1250  39.0   Male       Munich                   IT Operations Manager   \n",
       "1251  26.0   Male  Saarbrücken                      Frontend Developer   \n",
       "1252  26.0   Male       Berlin                                  DevOps   \n",
       "\n",
       "     experience seniority_level                  Main_PL  \\\n",
       "0             5          Senior               TypeScript   \n",
       "1             7          Senior                     Ruby   \n",
       "2            12            Lead  Javascript / Typescript   \n",
       "3             4          Junior               Javascript   \n",
       "4            17          Senior                  C# .NET   \n",
       "...         ...             ...                      ...   \n",
       "1248          9          Senior                     Java   \n",
       "1249         10          Senior        consumer analysis   \n",
       "1250         15            Lead                      PHP   \n",
       "1251          7          Middle               JavaScript   \n",
       "1252          2          Middle                     yaml   \n",
       "\n",
       "      yearly_gross_salary_in_EUR vacation_days           employment_status  \\\n",
       "0                        80000.0            30          Full-time employee   \n",
       "1                        80000.0            28          Full-time employee   \n",
       "2                       120000.0            30  Self-employed (freelancer)   \n",
       "3                        54000.0            24          Full-time employee   \n",
       "4                        62000.0            29          Full-time employee   \n",
       "...                          ...           ...                         ...   \n",
       "1248                     70000.0            26          Full-time employee   \n",
       "1249                     60000.0    unlimited           Full-time employee   \n",
       "1250                    110000.0            28          Full-time employee   \n",
       "1251                     38350.0            27          Full-time employee   \n",
       "1252                     65000.0            30          Full-time employee   \n",
       "\n",
       "       contract_duration main_language_at_work company_size company_type  \\\n",
       "0     Unlimited contract               English       51-100      Product   \n",
       "1     Unlimited contract               English     101-1000      Product   \n",
       "2     Temporary contract               English     101-1000      Product   \n",
       "3     Unlimited contract               English       51-100      Startup   \n",
       "4     Unlimited contract               English     101-1000      Product   \n",
       "...                  ...                   ...          ...          ...   \n",
       "1248  Unlimited contract               English       51-100      Product   \n",
       "1249  Unlimited contract               English        1000+      Product   \n",
       "1250  Unlimited contract               English     101-1000    eCommerce   \n",
       "1251  Unlimited contract                German     101-1000      Product   \n",
       "1252  Unlimited contract               English       51-100      Startup   \n",
       "\n",
       "     lost_job_covid  \n",
       "0                No  \n",
       "1                No  \n",
       "2               Yes  \n",
       "3                No  \n",
       "4                No  \n",
       "...             ...  \n",
       "1248            Yes  \n",
       "1249             No  \n",
       "1250             No  \n",
       "1251             No  \n",
       "1252             No  \n",
       "\n",
       "[1253 rows x 15 columns]"
      ]
     },
     "execution_count": 515,
     "metadata": {},
     "output_type": "execute_result"
    }
   ],
   "source": [
    "df_sv20a"
   ]
  },
  {
   "attachments": {},
   "cell_type": "markdown",
   "metadata": {},
   "source": [
    "Now that we have dropped the optional columns, Lets inspect the other columns One by one."
   ]
  },
  {
   "cell_type": "code",
   "execution_count": 516,
   "metadata": {},
   "outputs": [
    {
     "name": "stdout",
     "output_type": "stream",
     "text": [
      "<class 'pandas.core.frame.DataFrame'>\n",
      "RangeIndex: 1253 entries, 0 to 1252\n",
      "Data columns (total 15 columns):\n",
      " #   Column                      Non-Null Count  Dtype  \n",
      "---  ------                      --------------  -----  \n",
      " 0   Age                         1226 non-null   float64\n",
      " 1   Gender                      1243 non-null   object \n",
      " 2   City                        1253 non-null   object \n",
      " 3   position                    1247 non-null   object \n",
      " 4   experience                  1237 non-null   object \n",
      " 5   seniority_level             1241 non-null   object \n",
      " 6   Main_PL                     1126 non-null   object \n",
      " 7   yearly_gross_salary_in_EUR  1253 non-null   float64\n",
      " 8   vacation_days               1185 non-null   object \n",
      " 9   employment_status           1236 non-null   object \n",
      " 10  contract_duration           1224 non-null   object \n",
      " 11  main_language_at_work       1237 non-null   object \n",
      " 12  company_size                1235 non-null   object \n",
      " 13  company_type                1228 non-null   object \n",
      " 14  lost_job_covid              1233 non-null   object \n",
      "dtypes: float64(2), object(13)\n",
      "memory usage: 147.0+ KB\n"
     ]
    }
   ],
   "source": [
    "df_sv20a.info()"
   ]
  },
  {
   "attachments": {},
   "cell_type": "markdown",
   "metadata": {},
   "source": [
    "Since Age column has Nan Values, we shall fill the empty spaces with the mean age."
   ]
  },
  {
   "cell_type": "code",
   "execution_count": 517,
   "metadata": {},
   "outputs": [],
   "source": [
    "# Filling the null values with the mean age. \n",
    "mean_value=df_sv20a['Age'].mean()\n",
    "\n",
    "df_sv20a['Age'].fillna(value=mean_value, inplace=True)"
   ]
  },
  {
   "cell_type": "code",
   "execution_count": 518,
   "metadata": {},
   "outputs": [
    {
     "data": {
      "text/plain": [
       "0"
      ]
     },
     "execution_count": 518,
     "metadata": {},
     "output_type": "execute_result"
    }
   ],
   "source": [
    "# Confirming the existence of null values.\n",
    "df_sv20a.Age.isna().sum()"
   ]
  },
  {
   "cell_type": "code",
   "execution_count": 519,
   "metadata": {},
   "outputs": [
    {
     "data": {
      "text/plain": [
       "Age                             0\n",
       "Gender                         10\n",
       "City                            0\n",
       "position                        6\n",
       "experience                     16\n",
       "seniority_level                12\n",
       "Main_PL                       127\n",
       "yearly_gross_salary_in_EUR      0\n",
       "vacation_days                  68\n",
       "employment_status              17\n",
       "contract_duration              29\n",
       "main_language_at_work          16\n",
       "company_size                   18\n",
       "company_type                   25\n",
       "lost_job_covid                 20\n",
       "dtype: int64"
      ]
     },
     "execution_count": 519,
     "metadata": {},
     "output_type": "execute_result"
    }
   ],
   "source": [
    "df_sv20a.isna().sum()"
   ]
  },
  {
   "cell_type": "code",
   "execution_count": 520,
   "metadata": {},
   "outputs": [],
   "source": [
    "# Lets fill the empty spaces on the gender column with 'unspecified'\n",
    "df_sv20a['Gender'].fillna('Diverse', inplace = True)"
   ]
  },
  {
   "cell_type": "code",
   "execution_count": 521,
   "metadata": {},
   "outputs": [
    {
     "data": {
      "text/plain": [
       "Male       1049\n",
       "Female      192\n",
       "Diverse      12\n",
       "Name: Gender, dtype: int64"
      ]
     },
     "execution_count": 521,
     "metadata": {},
     "output_type": "execute_result"
    }
   ],
   "source": [
    "# Confirming \n",
    "df_sv20a.Gender.value_counts()"
   ]
  },
  {
   "cell_type": "code",
   "execution_count": 522,
   "metadata": {},
   "outputs": [],
   "source": [
    "#lets drop all the Null values \n",
    "df_sv20a.dropna(inplace= True)"
   ]
  },
  {
   "cell_type": "code",
   "execution_count": 523,
   "metadata": {},
   "outputs": [
    {
     "data": {
      "text/plain": [
       "Age                           0\n",
       "Gender                        0\n",
       "City                          0\n",
       "position                      0\n",
       "experience                    0\n",
       "seniority_level               0\n",
       "Main_PL                       0\n",
       "yearly_gross_salary_in_EUR    0\n",
       "vacation_days                 0\n",
       "employment_status             0\n",
       "contract_duration             0\n",
       "main_language_at_work         0\n",
       "company_size                  0\n",
       "company_type                  0\n",
       "lost_job_covid                0\n",
       "dtype: int64"
      ]
     },
     "execution_count": 523,
     "metadata": {},
     "output_type": "execute_result"
    }
   ],
   "source": [
    "df_sv20a.isna().sum()"
   ]
  },
  {
   "cell_type": "code",
   "execution_count": 524,
   "metadata": {},
   "outputs": [
    {
     "data": {
      "text/plain": [
       "array(['Munich', 'Berlin', 'Hamburg', 'Wolfsburg', 'Schleswig-Holstein',\n",
       "       'Konstanz area', 'Frankfurt', 'Cologne', 'Kempten', 'Münster',\n",
       "       'Mannheim ', 'Rosenheim', 'Stuttgart', 'Boeblingen', 'Düsseldorf',\n",
       "       'Ingolstadt', 'Nürnberg', 'Ansbach', 'Leipzig', 'Mannheim',\n",
       "       'Tuttlingen', 'Bonn', 'Moscow', 'Warsaw', 'Heidelberg', 'Aachen',\n",
       "       'Karlsruhe ', 'Riga, Latvia', 'Dusseldorf', 'Helsinki', 'Würzburg',\n",
       "       'Kiev', 'Den Haag', 'London', 'Amsterdam', 'Cracovia', 'Tallinn',\n",
       "       'Prague', 'Utrecht', 'Stockholm', 'Braunschweig ', 'Dresden',\n",
       "       'Kyiv', 'Stuttgart ', 'Malta', 'Lübeck', 'Nuremberg ', 'Bodensee',\n",
       "       'Milan', 'Salzburg', 'Rome', 'Wroclaw', 'Karlsruhe', 'Cupertino',\n",
       "       'Paris', 'Dublin ', 'Paderborn', 'Konstanz', 'Ulm', 'Barcelona',\n",
       "       'Bölingen', 'Tampere (Finland)', 'Siegen', 'Minsk', 'Düsseldorf ',\n",
       "       'Nuremberg', 'Marseille', 'Friedrichshafen', 'Hannover',\n",
       "       'Walldorf', 'Eindhoven', 'France', 'Regensburg', 'Warsaw, Poland',\n",
       "       'Heilbronn', 'Dortmund', 'City in Russia', 'Cracow', 'Brunswick',\n",
       "       'Zurich', 'Dublin', 'Madrid', 'Lisbon', 'Sofia', 'Luttich',\n",
       "       'Milano', 'Bielefeld', 'Basel', 'Istanbul', 'warsaw', 'Hildesheim',\n",
       "       'Vienna', 'Murnau am Staffelsee ', 'Innsbruck', 'Brussels ',\n",
       "       'Hildesheim ', 'Prefer not to say', 'Dusseldurf', 'Fr',\n",
       "       'Darmstadt', 'Duesseldorf', 'Cambridge', 'Brussels', 'Copenhagen',\n",
       "       'Sevilla', 'Krakow', 'Ingolstadt ', 'Saint-Petersburg',\n",
       "       'Saarbrücken'], dtype=object)"
      ]
     },
     "execution_count": 524,
     "metadata": {},
     "output_type": "execute_result"
    }
   ],
   "source": [
    "df_sv20a.City.unique()"
   ]
  },
  {
   "cell_type": "code",
   "execution_count": 525,
   "metadata": {},
   "outputs": [
    {
     "data": {
      "text/html": [
       "<div>\n",
       "<style scoped>\n",
       "    .dataframe tbody tr th:only-of-type {\n",
       "        vertical-align: middle;\n",
       "    }\n",
       "\n",
       "    .dataframe tbody tr th {\n",
       "        vertical-align: top;\n",
       "    }\n",
       "\n",
       "    .dataframe thead th {\n",
       "        text-align: right;\n",
       "    }\n",
       "</style>\n",
       "<table border=\"1\" class=\"dataframe\">\n",
       "  <thead>\n",
       "    <tr style=\"text-align: right;\">\n",
       "      <th></th>\n",
       "      <th>Age</th>\n",
       "      <th>Gender</th>\n",
       "      <th>City</th>\n",
       "      <th>position</th>\n",
       "      <th>experience</th>\n",
       "      <th>seniority_level</th>\n",
       "      <th>Main_PL</th>\n",
       "      <th>yearly_gross_salary_in_EUR</th>\n",
       "      <th>vacation_days</th>\n",
       "      <th>employment_status</th>\n",
       "      <th>contract_duration</th>\n",
       "      <th>main_language_at_work</th>\n",
       "      <th>company_size</th>\n",
       "      <th>company_type</th>\n",
       "      <th>lost_job_covid</th>\n",
       "    </tr>\n",
       "  </thead>\n",
       "  <tbody>\n",
       "    <tr>\n",
       "      <th>1068</th>\n",
       "      <td>36.0</td>\n",
       "      <td>Male</td>\n",
       "      <td>Prefer not to say</td>\n",
       "      <td>ML Engineer</td>\n",
       "      <td>6</td>\n",
       "      <td>Senior</td>\n",
       "      <td>Python</td>\n",
       "      <td>110000.0</td>\n",
       "      <td>30</td>\n",
       "      <td>Full-time employee</td>\n",
       "      <td>Unlimited contract</td>\n",
       "      <td>English</td>\n",
       "      <td>101-1000</td>\n",
       "      <td>Startup</td>\n",
       "      <td>No</td>\n",
       "    </tr>\n",
       "  </tbody>\n",
       "</table>\n",
       "</div>"
      ],
      "text/plain": [
       "       Age Gender               City     position experience seniority_level  \\\n",
       "1068  36.0   Male  Prefer not to say  ML Engineer          6          Senior   \n",
       "\n",
       "     Main_PL  yearly_gross_salary_in_EUR vacation_days   employment_status  \\\n",
       "1068  Python                    110000.0            30  Full-time employee   \n",
       "\n",
       "       contract_duration main_language_at_work company_size company_type  \\\n",
       "1068  Unlimited contract               English     101-1000      Startup   \n",
       "\n",
       "     lost_job_covid  \n",
       "1068             No  "
      ]
     },
     "execution_count": 525,
     "metadata": {},
     "output_type": "execute_result"
    }
   ],
   "source": [
    "# Lets query our dataset to find the city with 'prefer not to say'\n",
    "df_sv20a.query('City==\"Prefer not to say\"')"
   ]
  },
  {
   "cell_type": "code",
   "execution_count": 526,
   "metadata": {},
   "outputs": [],
   "source": [
    "# Lets delete the row based on its index.\n",
    "df_sv20a = df_sv20a.drop(index=1068)"
   ]
  },
  {
   "cell_type": "code",
   "execution_count": 527,
   "metadata": {},
   "outputs": [
    {
     "data": {
      "text/html": [
       "<div>\n",
       "<style scoped>\n",
       "    .dataframe tbody tr th:only-of-type {\n",
       "        vertical-align: middle;\n",
       "    }\n",
       "\n",
       "    .dataframe tbody tr th {\n",
       "        vertical-align: top;\n",
       "    }\n",
       "\n",
       "    .dataframe thead th {\n",
       "        text-align: right;\n",
       "    }\n",
       "</style>\n",
       "<table border=\"1\" class=\"dataframe\">\n",
       "  <thead>\n",
       "    <tr style=\"text-align: right;\">\n",
       "      <th></th>\n",
       "      <th>Age</th>\n",
       "      <th>Gender</th>\n",
       "      <th>City</th>\n",
       "      <th>position</th>\n",
       "      <th>experience</th>\n",
       "      <th>seniority_level</th>\n",
       "      <th>Main_PL</th>\n",
       "      <th>yearly_gross_salary_in_EUR</th>\n",
       "      <th>vacation_days</th>\n",
       "      <th>employment_status</th>\n",
       "      <th>contract_duration</th>\n",
       "      <th>main_language_at_work</th>\n",
       "      <th>company_size</th>\n",
       "      <th>company_type</th>\n",
       "      <th>lost_job_covid</th>\n",
       "    </tr>\n",
       "  </thead>\n",
       "  <tbody>\n",
       "  </tbody>\n",
       "</table>\n",
       "</div>"
      ],
      "text/plain": [
       "Empty DataFrame\n",
       "Columns: [Age, Gender, City, position, experience, seniority_level, Main_PL, yearly_gross_salary_in_EUR, vacation_days, employment_status, contract_duration, main_language_at_work, company_size, company_type, lost_job_covid]\n",
       "Index: []"
      ]
     },
     "execution_count": 527,
     "metadata": {},
     "output_type": "execute_result"
    }
   ],
   "source": [
    "# Confirming the changes\n",
    "df_sv20a.query('City==\"Prefer not to say\"')"
   ]
  },
  {
   "cell_type": "code",
   "execution_count": 528,
   "metadata": {},
   "outputs": [
    {
     "data": {
      "text/plain": [
       "array(['Software Engineer', 'Backend Developer', 'Frontend Developer',\n",
       "       'DevOps', 'Data Engineer', 'Mobile Developer',\n",
       "       'Software Architect', 'Team Lead', 'Test manager',\n",
       "       'Product Manager', 'Data Scientist', 'Designer (UI/UX)',\n",
       "       'Engineering Manager', 'Analytics engineer', 'QA Engineer',\n",
       "       'Hardware Engineer', 'Reporting Engineer', 'agile master ',\n",
       "       'ML Engineer', 'Solution Architect', 'BI Consultant',\n",
       "       'Fullstack Developer', 'Cloud Architect', 'Network Engineer ',\n",
       "       'VP Engineering', 'Scrum Master', 'Firmware Engineer',\n",
       "       'Solutions Architect', 'Data Center Manager',\n",
       "       'C/C++/Java developer', 'DevOps Manager', 'Network Administrator',\n",
       "       'Consultant Data Analytics', 'BI IT Consultant', 'iOS Developer',\n",
       "       'Cloud Engineer', 'Solutions architect', 'Stuttgart',\n",
       "       'Senior Program Manager', 'DB developer/Data analyst',\n",
       "       'Security Engineer', 'Business Analyst', 'DBA', 'Support Engineer',\n",
       "       'Consultant', 'Testautomation', 'SAP Developer', 'SW Architect',\n",
       "       'SRE', 'Fullstack engineer, ну или Software engineer', 'HiWi',\n",
       "       'Tech Lead / Full-Stack', 'Marketing Analyst', 'CTO',\n",
       "       'Software tester ', 'SAP BW Senior Consultant ', 'QA Manager ',\n",
       "       'Director of Engineering', 'IT Spezialist', 'Manager',\n",
       "       'Consultant ', 'Data Analyst', 'Software Developer in Test',\n",
       "       'Tech Leader', 'Chief Research Officer', 'Presales Engineer ',\n",
       "       'Freelance AI lead / advisor',\n",
       "       'Business Development Manager Operations ', 'Program Manager',\n",
       "       'Researcher', 'Engineering manager', 'Embedded Software Engineer',\n",
       "       'Team Manager', 'Data Analyst ', 'working student (QA)',\n",
       "       'Architect ', 'Head of Engineering', 'SAP Consultant',\n",
       "       'BI Consultant SAP/ Data Engineer', 'computer vision researcher',\n",
       "       'Teamlead', 'Senior Data Engineer', 'Analyst',\n",
       "       'Lead Software Developer', 'data engineer', 'Tech recruiting',\n",
       "       'BI Analyst ', 'BI Developer / Data Engineer',\n",
       "       'Senior Scrum Master (RTE)', 'Head of BI',\n",
       "       'Technical project manager', 'support engineer',\n",
       "       'Big Data Engineer', 'Manager ', 'Professor', 'AI Management',\n",
       "       'Sales ', 'XR Developer', 'Engineering Team Lead',\n",
       "       'DataOps Team Lead', 'Software Sales', 'Beikoch', 'Data analyst ',\n",
       "       'Product Analyst', 'It Consulting ', 'Staff Engineer',\n",
       "       'Head of IT', 'Computational linguist', 'Full-Stack Developer',\n",
       "       'QA Manager', 'QA Lead', 'Robotics Engineer', 'DatabEngineer',\n",
       "       'Project Manager', 'Application Consultant', 'Software Architekt',\n",
       "       'Testmanager', 'ERP Consultant',\n",
       "       'Researcher/ Consumer Insights Analyst ', 'IT Operations Manager'],\n",
       "      dtype=object)"
      ]
     },
     "execution_count": 528,
     "metadata": {},
     "output_type": "execute_result"
    }
   ],
   "source": [
    "df_sv20a.position.unique()"
   ]
  },
  {
   "cell_type": "code",
   "execution_count": 529,
   "metadata": {},
   "outputs": [
    {
     "data": {
      "text/plain": [
       "array(['5', '7', '12', '4', '17', '6', '8', '15', '2', '25', '14', '11',\n",
       "       '30', '18', '13', '10', '3', '40', '26', '9', '19', '20', '5.5',\n",
       "       '22', '16', '0.8', '1', '1.5', '21', '7.5', '2.5', '28', '29',\n",
       "       '23', '1,5', '24', '0', '4.5', '27',\n",
       "       '1 (as QA Engineer) / 11 in total', '2,5', '15, thereof 8 as CTO',\n",
       "       '31', '3.5', 'less than year'], dtype=object)"
      ]
     },
     "execution_count": 529,
     "metadata": {},
     "output_type": "execute_result"
    }
   ],
   "source": [
    "df_sv20a.experience.unique()"
   ]
  },
  {
   "attachments": {},
   "cell_type": "markdown",
   "metadata": {},
   "source": [
    "The experience column is supposed to be only numerical values, but since some of the values contains strings, we shall repalce the string values with numerical where applicable. We shall also replace the commas on the number with a fullstop.\n",
    "We shall also drop the column with 383 years beacause it sounds unrealistic.\n",
    "\n",
    "Lastly we shall change the datatype of the column to float."
   ]
  },
  {
   "cell_type": "code",
   "execution_count": 530,
   "metadata": {},
   "outputs": [],
   "source": [
    "# Repacing the non-numerical values with numericals.\n",
    "df_sv20a.experience = df_sv20a.experience.str.replace(',','.')\n",
    "df_sv20a.experience = df_sv20a.experience.replace('1 (as QA Engineer) / 11 in total','11') \\\n",
    "                             .replace('6 (not as a data scientist. but as a lab scientist)', '6') \\\n",
    "                             .replace('less than year','0') \\\n",
    "                             .replace('15. thereof 8 as CTO', '15')"
   ]
  },
  {
   "cell_type": "code",
   "execution_count": 531,
   "metadata": {},
   "outputs": [],
   "source": [
    "# Changing the datatype from string to float\n",
    "df_sv20a.experience = df_sv20a.experience.astype('float')"
   ]
  },
  {
   "cell_type": "code",
   "execution_count": 532,
   "metadata": {},
   "outputs": [
    {
     "name": "stdout",
     "output_type": "stream",
     "text": [
      "<class 'pandas.core.frame.DataFrame'>\n",
      "Int64Index: 1042 entries, 0 to 1252\n",
      "Data columns (total 15 columns):\n",
      " #   Column                      Non-Null Count  Dtype  \n",
      "---  ------                      --------------  -----  \n",
      " 0   Age                         1042 non-null   float64\n",
      " 1   Gender                      1042 non-null   object \n",
      " 2   City                        1042 non-null   object \n",
      " 3   position                    1042 non-null   object \n",
      " 4   experience                  1042 non-null   float64\n",
      " 5   seniority_level             1042 non-null   object \n",
      " 6   Main_PL                     1042 non-null   object \n",
      " 7   yearly_gross_salary_in_EUR  1042 non-null   float64\n",
      " 8   vacation_days               1042 non-null   object \n",
      " 9   employment_status           1042 non-null   object \n",
      " 10  contract_duration           1042 non-null   object \n",
      " 11  main_language_at_work       1042 non-null   object \n",
      " 12  company_size                1042 non-null   object \n",
      " 13  company_type                1042 non-null   object \n",
      " 14  lost_job_covid              1042 non-null   object \n",
      "dtypes: float64(3), object(12)\n",
      "memory usage: 130.2+ KB\n"
     ]
    }
   ],
   "source": [
    "df_sv20a.info()"
   ]
  },
  {
   "cell_type": "code",
   "execution_count": 533,
   "metadata": {},
   "outputs": [
    {
     "data": {
      "text/plain": [
       "30                                              429\n",
       "28                                              211\n",
       "27                                               90\n",
       "25                                               74\n",
       "24                                               60\n",
       "26                                               58\n",
       "29                                               23\n",
       "20                                               10\n",
       "21                                                9\n",
       "22                                                8\n",
       "31                                                8\n",
       "32                                                7\n",
       "36                                                5\n",
       "40                                                4\n",
       "0                                                 4\n",
       "35                                                4\n",
       "14                                                3\n",
       "33                                                3\n",
       "23                                                3\n",
       "45                                                3\n",
       "unlimited                                         2\n",
       "15                                                2\n",
       "12                                                2\n",
       "unlimited                                         2\n",
       "Unlimited                                         2\n",
       "99                                                1\n",
       "34                                                1\n",
       "39                                                1\n",
       "5                                                 1\n",
       "1                                                 1\n",
       "37.5                                              1\n",
       "24 labour days                                    1\n",
       "30 in contract (but theoretically unlimited)      1\n",
       "23+                                               1\n",
       "50                                                1\n",
       "~25                                               1\n",
       "3                                                 1\n",
       "16                                                1\n",
       "38                                                1\n",
       "60                                                1\n",
       "10                                                1\n",
       "Name: vacation_days, dtype: int64"
      ]
     },
     "execution_count": 533,
     "metadata": {},
     "output_type": "execute_result"
    }
   ],
   "source": [
    "df_sv20a.vacation_days.value_counts()"
   ]
  },
  {
   "cell_type": "code",
   "execution_count": 534,
   "metadata": {},
   "outputs": [
    {
     "data": {
      "text/html": [
       "<div>\n",
       "<style scoped>\n",
       "    .dataframe tbody tr th:only-of-type {\n",
       "        vertical-align: middle;\n",
       "    }\n",
       "\n",
       "    .dataframe tbody tr th {\n",
       "        vertical-align: top;\n",
       "    }\n",
       "\n",
       "    .dataframe thead th {\n",
       "        text-align: right;\n",
       "    }\n",
       "</style>\n",
       "<table border=\"1\" class=\"dataframe\">\n",
       "  <thead>\n",
       "    <tr style=\"text-align: right;\">\n",
       "      <th></th>\n",
       "      <th>Age</th>\n",
       "      <th>Gender</th>\n",
       "      <th>City</th>\n",
       "      <th>position</th>\n",
       "      <th>experience</th>\n",
       "      <th>seniority_level</th>\n",
       "      <th>Main_PL</th>\n",
       "      <th>yearly_gross_salary_in_EUR</th>\n",
       "      <th>vacation_days</th>\n",
       "      <th>employment_status</th>\n",
       "      <th>contract_duration</th>\n",
       "      <th>main_language_at_work</th>\n",
       "      <th>company_size</th>\n",
       "      <th>company_type</th>\n",
       "      <th>lost_job_covid</th>\n",
       "    </tr>\n",
       "  </thead>\n",
       "  <tbody>\n",
       "    <tr>\n",
       "      <th>771</th>\n",
       "      <td>39.000000</td>\n",
       "      <td>Male</td>\n",
       "      <td>Berlin</td>\n",
       "      <td>Software Engineer</td>\n",
       "      <td>19.0</td>\n",
       "      <td>Senior</td>\n",
       "      <td>Golang</td>\n",
       "      <td>87000.0</td>\n",
       "      <td>unlimited</td>\n",
       "      <td>Full-time employee</td>\n",
       "      <td>Unlimited contract</td>\n",
       "      <td>English</td>\n",
       "      <td>11-50</td>\n",
       "      <td>Startup</td>\n",
       "      <td>No</td>\n",
       "    </tr>\n",
       "    <tr>\n",
       "      <th>961</th>\n",
       "      <td>32.509788</td>\n",
       "      <td>Male</td>\n",
       "      <td>Berlin</td>\n",
       "      <td>Data Scientist</td>\n",
       "      <td>4.0</td>\n",
       "      <td>Head</td>\n",
       "      <td>python</td>\n",
       "      <td>105000.0</td>\n",
       "      <td>unlimited</td>\n",
       "      <td>Full-time employee</td>\n",
       "      <td>Unlimited contract</td>\n",
       "      <td>German</td>\n",
       "      <td>11-50</td>\n",
       "      <td>Consulting / Agency</td>\n",
       "      <td>No</td>\n",
       "    </tr>\n",
       "  </tbody>\n",
       "</table>\n",
       "</div>"
      ],
      "text/plain": [
       "           Age Gender    City           position  experience seniority_level  \\\n",
       "771  39.000000   Male  Berlin  Software Engineer        19.0          Senior   \n",
       "961  32.509788   Male  Berlin     Data Scientist         4.0            Head   \n",
       "\n",
       "    Main_PL  yearly_gross_salary_in_EUR vacation_days   employment_status  \\\n",
       "771  Golang                     87000.0     unlimited  Full-time employee   \n",
       "961  python                    105000.0     unlimited  Full-time employee   \n",
       "\n",
       "      contract_duration main_language_at_work company_size  \\\n",
       "771  Unlimited contract               English        11-50   \n",
       "961  Unlimited contract                German        11-50   \n",
       "\n",
       "            company_type lost_job_covid  \n",
       "771              Startup             No  \n",
       "961  Consulting / Agency             No  "
      ]
     },
     "execution_count": 534,
     "metadata": {},
     "output_type": "execute_result"
    }
   ],
   "source": [
    "df_sv20a.loc[df_sv20a['vacation_days'] == 'unlimited']\n"
   ]
  },
  {
   "cell_type": "code",
   "execution_count": 535,
   "metadata": {},
   "outputs": [
    {
     "data": {
      "text/html": [
       "<div>\n",
       "<style scoped>\n",
       "    .dataframe tbody tr th:only-of-type {\n",
       "        vertical-align: middle;\n",
       "    }\n",
       "\n",
       "    .dataframe tbody tr th {\n",
       "        vertical-align: top;\n",
       "    }\n",
       "\n",
       "    .dataframe thead th {\n",
       "        text-align: right;\n",
       "    }\n",
       "</style>\n",
       "<table border=\"1\" class=\"dataframe\">\n",
       "  <thead>\n",
       "    <tr style=\"text-align: right;\">\n",
       "      <th></th>\n",
       "      <th>Age</th>\n",
       "      <th>Gender</th>\n",
       "      <th>City</th>\n",
       "      <th>position</th>\n",
       "      <th>experience</th>\n",
       "      <th>seniority_level</th>\n",
       "      <th>Main_PL</th>\n",
       "      <th>yearly_gross_salary_in_EUR</th>\n",
       "      <th>vacation_days</th>\n",
       "      <th>employment_status</th>\n",
       "      <th>contract_duration</th>\n",
       "      <th>main_language_at_work</th>\n",
       "      <th>company_size</th>\n",
       "      <th>company_type</th>\n",
       "      <th>lost_job_covid</th>\n",
       "    </tr>\n",
       "  </thead>\n",
       "  <tbody>\n",
       "    <tr>\n",
       "      <th>368</th>\n",
       "      <td>31.0</td>\n",
       "      <td>Male</td>\n",
       "      <td>Munich</td>\n",
       "      <td>Software Engineer</td>\n",
       "      <td>11.0</td>\n",
       "      <td>Middle</td>\n",
       "      <td>Python</td>\n",
       "      <td>75000.0</td>\n",
       "      <td>unlimited</td>\n",
       "      <td>Full-time employee</td>\n",
       "      <td>Unlimited contract</td>\n",
       "      <td>English</td>\n",
       "      <td>1000+</td>\n",
       "      <td>Product</td>\n",
       "      <td>No</td>\n",
       "    </tr>\n",
       "    <tr>\n",
       "      <th>1249</th>\n",
       "      <td>33.0</td>\n",
       "      <td>Male</td>\n",
       "      <td>Berlin</td>\n",
       "      <td>Researcher/ Consumer Insights Analyst</td>\n",
       "      <td>10.0</td>\n",
       "      <td>Senior</td>\n",
       "      <td>consumer analysis</td>\n",
       "      <td>60000.0</td>\n",
       "      <td>unlimited</td>\n",
       "      <td>Full-time employee</td>\n",
       "      <td>Unlimited contract</td>\n",
       "      <td>English</td>\n",
       "      <td>1000+</td>\n",
       "      <td>Product</td>\n",
       "      <td>No</td>\n",
       "    </tr>\n",
       "  </tbody>\n",
       "</table>\n",
       "</div>"
      ],
      "text/plain": [
       "       Age Gender    City                                position  experience  \\\n",
       "368   31.0   Male  Munich                       Software Engineer        11.0   \n",
       "1249  33.0   Male  Berlin  Researcher/ Consumer Insights Analyst         10.0   \n",
       "\n",
       "     seniority_level            Main_PL  yearly_gross_salary_in_EUR  \\\n",
       "368           Middle             Python                     75000.0   \n",
       "1249          Senior  consumer analysis                     60000.0   \n",
       "\n",
       "     vacation_days   employment_status   contract_duration  \\\n",
       "368     unlimited   Full-time employee  Unlimited contract   \n",
       "1249    unlimited   Full-time employee  Unlimited contract   \n",
       "\n",
       "     main_language_at_work company_size company_type lost_job_covid  \n",
       "368                English        1000+      Product             No  \n",
       "1249               English        1000+      Product             No  "
      ]
     },
     "execution_count": 535,
     "metadata": {},
     "output_type": "execute_result"
    }
   ],
   "source": [
    "df_sv20a.loc[df_sv20a['vacation_days'] == 'unlimited ']\n"
   ]
  },
  {
   "cell_type": "code",
   "execution_count": 536,
   "metadata": {},
   "outputs": [
    {
     "data": {
      "text/html": [
       "<div>\n",
       "<style scoped>\n",
       "    .dataframe tbody tr th:only-of-type {\n",
       "        vertical-align: middle;\n",
       "    }\n",
       "\n",
       "    .dataframe tbody tr th {\n",
       "        vertical-align: top;\n",
       "    }\n",
       "\n",
       "    .dataframe thead th {\n",
       "        text-align: right;\n",
       "    }\n",
       "</style>\n",
       "<table border=\"1\" class=\"dataframe\">\n",
       "  <thead>\n",
       "    <tr style=\"text-align: right;\">\n",
       "      <th></th>\n",
       "      <th>Age</th>\n",
       "      <th>Gender</th>\n",
       "      <th>City</th>\n",
       "      <th>position</th>\n",
       "      <th>experience</th>\n",
       "      <th>seniority_level</th>\n",
       "      <th>Main_PL</th>\n",
       "      <th>yearly_gross_salary_in_EUR</th>\n",
       "      <th>vacation_days</th>\n",
       "      <th>employment_status</th>\n",
       "      <th>contract_duration</th>\n",
       "      <th>main_language_at_work</th>\n",
       "      <th>company_size</th>\n",
       "      <th>company_type</th>\n",
       "      <th>lost_job_covid</th>\n",
       "    </tr>\n",
       "  </thead>\n",
       "  <tbody>\n",
       "    <tr>\n",
       "      <th>911</th>\n",
       "      <td>38.0</td>\n",
       "      <td>Male</td>\n",
       "      <td>Berlin</td>\n",
       "      <td>Software Engineer</td>\n",
       "      <td>12.0</td>\n",
       "      <td>Senior</td>\n",
       "      <td>Java</td>\n",
       "      <td>92000.0</td>\n",
       "      <td>Unlimited</td>\n",
       "      <td>Full-time employee</td>\n",
       "      <td>Unlimited contract</td>\n",
       "      <td>English</td>\n",
       "      <td>1000+</td>\n",
       "      <td>Product</td>\n",
       "      <td>No</td>\n",
       "    </tr>\n",
       "    <tr>\n",
       "      <th>948</th>\n",
       "      <td>31.0</td>\n",
       "      <td>Male</td>\n",
       "      <td>Munich</td>\n",
       "      <td>Professor</td>\n",
       "      <td>10.0</td>\n",
       "      <td>Lead</td>\n",
       "      <td>Python</td>\n",
       "      <td>80000.0</td>\n",
       "      <td>Unlimited</td>\n",
       "      <td>Full-time employee</td>\n",
       "      <td>Unlimited contract</td>\n",
       "      <td>German</td>\n",
       "      <td>101-1000</td>\n",
       "      <td>Education</td>\n",
       "      <td>No</td>\n",
       "    </tr>\n",
       "  </tbody>\n",
       "</table>\n",
       "</div>"
      ],
      "text/plain": [
       "      Age Gender    City           position  experience seniority_level  \\\n",
       "911  38.0   Male  Berlin  Software Engineer        12.0          Senior   \n",
       "948  31.0   Male  Munich          Professor        10.0            Lead   \n",
       "\n",
       "    Main_PL  yearly_gross_salary_in_EUR vacation_days   employment_status  \\\n",
       "911    Java                     92000.0     Unlimited  Full-time employee   \n",
       "948  Python                     80000.0     Unlimited  Full-time employee   \n",
       "\n",
       "      contract_duration main_language_at_work company_size company_type  \\\n",
       "911  Unlimited contract               English        1000+      Product   \n",
       "948  Unlimited contract                German     101-1000    Education   \n",
       "\n",
       "    lost_job_covid  \n",
       "911             No  \n",
       "948             No  "
      ]
     },
     "execution_count": 536,
     "metadata": {},
     "output_type": "execute_result"
    }
   ],
   "source": [
    "df_sv20a.loc[df_sv20a['vacation_days'] == 'Unlimited']"
   ]
  },
  {
   "cell_type": "code",
   "execution_count": 537,
   "metadata": {},
   "outputs": [],
   "source": [
    "# Lets drop the rows\n",
    "def drop_rows(df, index_list):\n",
    "    for index in index_list:\n",
    "        df = df.drop(index=index)\n",
    "    return df\n",
    "\n",
    "index_list = [771, 961, 368, 1249, 911,948] # list of index values to drop\n",
    "df_sv20a = drop_rows(df_sv20a, index_list) # call the function\n"
   ]
  },
  {
   "cell_type": "code",
   "execution_count": 538,
   "metadata": {},
   "outputs": [
    {
     "data": {
      "text/plain": [
       "30                                              429\n",
       "28                                              211\n",
       "27                                               90\n",
       "25                                               74\n",
       "24                                               60\n",
       "26                                               58\n",
       "29                                               23\n",
       "20                                               10\n",
       "21                                                9\n",
       "31                                                8\n",
       "22                                                8\n",
       "32                                                7\n",
       "36                                                5\n",
       "0                                                 4\n",
       "35                                                4\n",
       "40                                                4\n",
       "45                                                3\n",
       "14                                                3\n",
       "23                                                3\n",
       "33                                                3\n",
       "15                                                2\n",
       "12                                                2\n",
       "99                                                1\n",
       "39                                                1\n",
       "5                                                 1\n",
       "1                                                 1\n",
       "34                                                1\n",
       "37.5                                              1\n",
       "24 labour days                                    1\n",
       "30 in contract (but theoretically unlimited)      1\n",
       "23+                                               1\n",
       "50                                                1\n",
       "~25                                               1\n",
       "3                                                 1\n",
       "16                                                1\n",
       "38                                                1\n",
       "60                                                1\n",
       "10                                                1\n",
       "Name: vacation_days, dtype: int64"
      ]
     },
     "execution_count": 538,
     "metadata": {},
     "output_type": "execute_result"
    }
   ],
   "source": [
    "# Confirming the action\n",
    "df_sv20a.vacation_days.value_counts()"
   ]
  },
  {
   "cell_type": "code",
   "execution_count": 539,
   "metadata": {},
   "outputs": [],
   "source": [
    "# Replace values with numericals\n",
    "df_sv20a.vacation_days = df_sv20a.vacation_days.replace('24 labour days','24') \\\n",
    "                             .replace('30 in contract (but theoretically unlimited)', '30') \\\n",
    "                             .replace('23+','23') \\\n",
    "                             .replace('~25', '25')"
   ]
  },
  {
   "cell_type": "code",
   "execution_count": 540,
   "metadata": {},
   "outputs": [],
   "source": [
    "df_sv20a['vacation_days'] = df_sv20a['vacation_days'].astype(float)\n"
   ]
  },
  {
   "cell_type": "code",
   "execution_count": 541,
   "metadata": {},
   "outputs": [
    {
     "data": {
      "text/plain": [
       "30.0    430\n",
       "28.0    211\n",
       "27.0     90\n",
       "25.0     75\n",
       "24.0     61\n",
       "26.0     58\n",
       "29.0     23\n",
       "20.0     10\n",
       "21.0      9\n",
       "31.0      8\n",
       "22.0      8\n",
       "32.0      7\n",
       "36.0      5\n",
       "35.0      4\n",
       "40.0      4\n",
       "23.0      4\n",
       "0.0       4\n",
       "33.0      3\n",
       "45.0      3\n",
       "14.0      3\n",
       "12.0      2\n",
       "15.0      2\n",
       "39.0      1\n",
       "5.0       1\n",
       "37.5      1\n",
       "34.0      1\n",
       "1.0       1\n",
       "60.0      1\n",
       "99.0      1\n",
       "50.0      1\n",
       "3.0       1\n",
       "16.0      1\n",
       "38.0      1\n",
       "10.0      1\n",
       "Name: vacation_days, dtype: int64"
      ]
     },
     "execution_count": 541,
     "metadata": {},
     "output_type": "execute_result"
    }
   ],
   "source": [
    "df_sv20a.vacation_days.value_counts()"
   ]
  },
  {
   "cell_type": "code",
   "execution_count": 542,
   "metadata": {},
   "outputs": [
    {
     "name": "stdout",
     "output_type": "stream",
     "text": [
      "<class 'pandas.core.frame.DataFrame'>\n",
      "Int64Index: 1036 entries, 0 to 1252\n",
      "Data columns (total 15 columns):\n",
      " #   Column                      Non-Null Count  Dtype  \n",
      "---  ------                      --------------  -----  \n",
      " 0   Age                         1036 non-null   float64\n",
      " 1   Gender                      1036 non-null   object \n",
      " 2   City                        1036 non-null   object \n",
      " 3   position                    1036 non-null   object \n",
      " 4   experience                  1036 non-null   float64\n",
      " 5   seniority_level             1036 non-null   object \n",
      " 6   Main_PL                     1036 non-null   object \n",
      " 7   yearly_gross_salary_in_EUR  1036 non-null   float64\n",
      " 8   vacation_days               1036 non-null   float64\n",
      " 9   employment_status           1036 non-null   object \n",
      " 10  contract_duration           1036 non-null   object \n",
      " 11  main_language_at_work       1036 non-null   object \n",
      " 12  company_size                1036 non-null   object \n",
      " 13  company_type                1036 non-null   object \n",
      " 14  lost_job_covid              1036 non-null   object \n",
      "dtypes: float64(4), object(11)\n",
      "memory usage: 129.5+ KB\n"
     ]
    }
   ],
   "source": [
    "df_sv20a.info()"
   ]
  },
  {
   "cell_type": "code",
   "execution_count": 543,
   "metadata": {},
   "outputs": [
    {
     "data": {
      "text/plain": [
       "Full-time employee                                                     1004\n",
       "Self-employed (freelancer)                                               21\n",
       "Part-time employee                                                        6\n",
       "working student                                                           1\n",
       "Working Student                                                           1\n",
       "full-time, but 32 hours per week (it was my request, I'm a student)       1\n",
       "Werkstudent                                                               1\n",
       "Founder                                                                   1\n",
       "Name: employment_status, dtype: int64"
      ]
     },
     "execution_count": 543,
     "metadata": {},
     "output_type": "execute_result"
    }
   ],
   "source": [
    "df_sv20a.employment_status.value_counts()"
   ]
  },
  {
   "cell_type": "code",
   "execution_count": 544,
   "metadata": {},
   "outputs": [],
   "source": [
    "# Replace values \n",
    "df_sv20a.employment_status = df_sv20a.employment_status.replace('working student','Working Student') \\\n",
    "                             .replace(\"full-time, but 32 hours per week (it was my request, I'm a student)\", 'Working Student') \\\n",
    "                             .replace('Werkstudent','Working Student')"
   ]
  },
  {
   "cell_type": "code",
   "execution_count": 545,
   "metadata": {},
   "outputs": [
    {
     "data": {
      "text/plain": [
       "Full-time employee            1004\n",
       "Self-employed (freelancer)      21\n",
       "Part-time employee               6\n",
       "Working Student                  4\n",
       "Founder                          1\n",
       "Name: employment_status, dtype: int64"
      ]
     },
     "execution_count": 545,
     "metadata": {},
     "output_type": "execute_result"
    }
   ],
   "source": [
    "df_sv20a.employment_status.value_counts()"
   ]
  },
  {
   "cell_type": "code",
   "execution_count": 546,
   "metadata": {},
   "outputs": [],
   "source": [
    "# Converting the employment status to categorical datatype\n",
    "estatus_classes =['Full-time employee', 'Self-employed (freelancer)', 'Part-time employee', 'Working Student', 'Founder']\n",
    "\n",
    "emplo =pd.api.types.CategoricalDtype(ordered = False, categories=estatus_classes)\n",
    "df_sv20a['employment_status'] =df_sv20a['employment_status'].astype(emplo)"
   ]
  },
  {
   "cell_type": "code",
   "execution_count": 547,
   "metadata": {},
   "outputs": [
    {
     "data": {
      "text/plain": [
       "Unlimited contract    982\n",
       "Temporary contract     53\n",
       "0                       1\n",
       "Name: contract_duration, dtype: int64"
      ]
     },
     "execution_count": 547,
     "metadata": {},
     "output_type": "execute_result"
    }
   ],
   "source": [
    "df_sv20a.contract_duration.value_counts()"
   ]
  },
  {
   "attachments": {},
   "cell_type": "markdown",
   "metadata": {},
   "source": [
    "Lets delete the row with 0 as input"
   ]
  },
  {
   "cell_type": "code",
   "execution_count": 548,
   "metadata": {},
   "outputs": [
    {
     "data": {
      "text/html": [
       "<div>\n",
       "<style scoped>\n",
       "    .dataframe tbody tr th:only-of-type {\n",
       "        vertical-align: middle;\n",
       "    }\n",
       "\n",
       "    .dataframe tbody tr th {\n",
       "        vertical-align: top;\n",
       "    }\n",
       "\n",
       "    .dataframe thead th {\n",
       "        text-align: right;\n",
       "    }\n",
       "</style>\n",
       "<table border=\"1\" class=\"dataframe\">\n",
       "  <thead>\n",
       "    <tr style=\"text-align: right;\">\n",
       "      <th></th>\n",
       "      <th>Age</th>\n",
       "      <th>Gender</th>\n",
       "      <th>City</th>\n",
       "      <th>position</th>\n",
       "      <th>experience</th>\n",
       "      <th>seniority_level</th>\n",
       "      <th>Main_PL</th>\n",
       "      <th>yearly_gross_salary_in_EUR</th>\n",
       "      <th>vacation_days</th>\n",
       "      <th>employment_status</th>\n",
       "      <th>contract_duration</th>\n",
       "      <th>main_language_at_work</th>\n",
       "      <th>company_size</th>\n",
       "      <th>company_type</th>\n",
       "      <th>lost_job_covid</th>\n",
       "    </tr>\n",
       "  </thead>\n",
       "  <tbody>\n",
       "    <tr>\n",
       "      <th>574</th>\n",
       "      <td>38.0</td>\n",
       "      <td>Male</td>\n",
       "      <td>Berlin</td>\n",
       "      <td>Freelance AI lead / advisor</td>\n",
       "      <td>20.0</td>\n",
       "      <td>Head</td>\n",
       "      <td>C</td>\n",
       "      <td>200000.0</td>\n",
       "      <td>0.0</td>\n",
       "      <td>Self-employed (freelancer)</td>\n",
       "      <td>0</td>\n",
       "      <td>English</td>\n",
       "      <td>up to 10</td>\n",
       "      <td>Consulting / Agency</td>\n",
       "      <td>Yes</td>\n",
       "    </tr>\n",
       "  </tbody>\n",
       "</table>\n",
       "</div>"
      ],
      "text/plain": [
       "      Age Gender    City                     position  experience  \\\n",
       "574  38.0   Male  Berlin  Freelance AI lead / advisor        20.0   \n",
       "\n",
       "    seniority_level Main_PL  yearly_gross_salary_in_EUR  vacation_days  \\\n",
       "574            Head       C                    200000.0            0.0   \n",
       "\n",
       "              employment_status contract_duration main_language_at_work  \\\n",
       "574  Self-employed (freelancer)                 0               English   \n",
       "\n",
       "    company_size         company_type lost_job_covid  \n",
       "574     up to 10  Consulting / Agency            Yes  "
      ]
     },
     "execution_count": 548,
     "metadata": {},
     "output_type": "execute_result"
    }
   ],
   "source": [
    "df_sv20a.loc[df_sv20a['contract_duration'] == '0']"
   ]
  },
  {
   "cell_type": "code",
   "execution_count": 549,
   "metadata": {},
   "outputs": [],
   "source": [
    "df_sv20a = df_sv20a.drop(index= 574)"
   ]
  },
  {
   "cell_type": "code",
   "execution_count": 550,
   "metadata": {},
   "outputs": [
    {
     "data": {
      "text/plain": [
       "English               854\n",
       "German                154\n",
       "Russian                10\n",
       "Italian                 3\n",
       "Spanish                 3\n",
       "English and German      2\n",
       "Polish                  2\n",
       "Czech                   2\n",
       "Русский                 1\n",
       "Deuglisch               1\n",
       "French                  1\n",
       "both                    1\n",
       "Russian, English        1\n",
       "Name: main_language_at_work, dtype: int64"
      ]
     },
     "execution_count": 550,
     "metadata": {},
     "output_type": "execute_result"
    }
   ],
   "source": [
    "df_sv20a.main_language_at_work.value_counts()"
   ]
  },
  {
   "cell_type": "code",
   "execution_count": 551,
   "metadata": {},
   "outputs": [],
   "source": [
    "df_sv20a = df_sv20a.replace('both', 'English and German')"
   ]
  },
  {
   "cell_type": "code",
   "execution_count": 552,
   "metadata": {},
   "outputs": [
    {
     "name": "stdout",
     "output_type": "stream",
     "text": [
      "<class 'pandas.core.frame.DataFrame'>\n",
      "Int64Index: 1035 entries, 0 to 1252\n",
      "Data columns (total 15 columns):\n",
      " #   Column                      Non-Null Count  Dtype   \n",
      "---  ------                      --------------  -----   \n",
      " 0   Age                         1035 non-null   float64 \n",
      " 1   Gender                      1035 non-null   object  \n",
      " 2   City                        1035 non-null   object  \n",
      " 3   position                    1035 non-null   object  \n",
      " 4   experience                  1035 non-null   float64 \n",
      " 5   seniority_level             1035 non-null   object  \n",
      " 6   Main_PL                     1035 non-null   object  \n",
      " 7   yearly_gross_salary_in_EUR  1035 non-null   float64 \n",
      " 8   vacation_days               1035 non-null   float64 \n",
      " 9   employment_status           1035 non-null   category\n",
      " 10  contract_duration           1035 non-null   object  \n",
      " 11  main_language_at_work       1035 non-null   object  \n",
      " 12  company_size                1035 non-null   object  \n",
      " 13  company_type                1035 non-null   object  \n",
      " 14  lost_job_covid              1035 non-null   object  \n",
      "dtypes: category(1), float64(4), object(10)\n",
      "memory usage: 122.5+ KB\n"
     ]
    }
   ],
   "source": [
    "df_sv20a.info()"
   ]
  },
  {
   "cell_type": "code",
   "execution_count": 553,
   "metadata": {},
   "outputs": [
    {
     "data": {
      "text/plain": [
       "English               854\n",
       "German                154\n",
       "Russian                10\n",
       "English and German      3\n",
       "Italian                 3\n",
       "Spanish                 3\n",
       "Polish                  2\n",
       "Czech                   2\n",
       "Русский                 1\n",
       "Deuglisch               1\n",
       "French                  1\n",
       "Russian, English        1\n",
       "Name: main_language_at_work, dtype: int64"
      ]
     },
     "execution_count": 553,
     "metadata": {},
     "output_type": "execute_result"
    }
   ],
   "source": [
    "# Confiriming changes\n",
    "df_sv20a.main_language_at_work.value_counts()"
   ]
  },
  {
   "cell_type": "code",
   "execution_count": 554,
   "metadata": {},
   "outputs": [
    {
     "data": {
      "text/plain": [
       "1000+       376\n",
       "101-1000    340\n",
       "11-50       147\n",
       "51-100      126\n",
       "up to 10     46\n",
       "Name: company_size, dtype: int64"
      ]
     },
     "execution_count": 554,
     "metadata": {},
     "output_type": "execute_result"
    }
   ],
   "source": [
    "\n",
    "df_sv20a.company_size.value_counts()"
   ]
  },
  {
   "cell_type": "code",
   "execution_count": 555,
   "metadata": {},
   "outputs": [
    {
     "data": {
      "text/plain": [
       "Product                                  659\n",
       "Startup                                  202\n",
       "Consulting / Agency                      113\n",
       "Bank                                       4\n",
       "Media                                      3\n",
       "E-commerce                                 2\n",
       "Finance                                    2\n",
       "Utilities                                  2\n",
       "University                                 2\n",
       "Research                                   2\n",
       "Corporation                                2\n",
       "Ecommerce                                  1\n",
       "Semiconductor                              1\n",
       "E-Commerce                                 1\n",
       "Retail                                     1\n",
       "Research institute                         1\n",
       "Science Institute                          1\n",
       "Fintech                                    1\n",
       "Corporation                                1\n",
       "Handel                                     1\n",
       "Consulting and Product                     1\n",
       "Pharma                                     1\n",
       "Transport & Logistics                      1\n",
       "Biergarten                                 1\n",
       "Non-tech retail                            1\n",
       "corporate incubator                        1\n",
       "FAANG                                      1\n",
       "Old industry                               1\n",
       "Outsourse                                  1\n",
       "Insurance                                  1\n",
       "Enterprise                                 1\n",
       "Concern                                    1\n",
       "service                                    1\n",
       "Cloud                                      1\n",
       "Behörde                                    1\n",
       "Big commercial                             1\n",
       "Outsorce                                   1\n",
       "Bank                                       1\n",
       "Automotive                                 1\n",
       "IT Department of established business      1\n",
       "Telecommunications                         1\n",
       "consumer goods                             1\n",
       "IT-Outsourcing                             1\n",
       "Game Company                               1\n",
       "Financial                                  1\n",
       "Publishing and Technology                  1\n",
       "Market Research                            1\n",
       "e-commerce                                 1\n",
       "SaaS                                       1\n",
       "Publisher                                  1\n",
       "Energy                                     1\n",
       "Bloody enterprise                          1\n",
       "eCommerce                                  1\n",
       "Name: company_type, dtype: int64"
      ]
     },
     "execution_count": 555,
     "metadata": {},
     "output_type": "execute_result"
    }
   ],
   "source": [
    "df_sv20a.company_type.value_counts()"
   ]
  },
  {
   "cell_type": "code",
   "execution_count": 556,
   "metadata": {},
   "outputs": [
    {
     "data": {
      "text/html": [
       "<div>\n",
       "<style scoped>\n",
       "    .dataframe tbody tr th:only-of-type {\n",
       "        vertical-align: middle;\n",
       "    }\n",
       "\n",
       "    .dataframe tbody tr th {\n",
       "        vertical-align: top;\n",
       "    }\n",
       "\n",
       "    .dataframe thead th {\n",
       "        text-align: right;\n",
       "    }\n",
       "</style>\n",
       "<table border=\"1\" class=\"dataframe\">\n",
       "  <thead>\n",
       "    <tr style=\"text-align: right;\">\n",
       "      <th></th>\n",
       "      <th>Age</th>\n",
       "      <th>Gender</th>\n",
       "      <th>City</th>\n",
       "      <th>position</th>\n",
       "      <th>experience</th>\n",
       "      <th>seniority_level</th>\n",
       "      <th>Main_PL</th>\n",
       "      <th>yearly_gross_salary_in_EUR</th>\n",
       "      <th>vacation_days</th>\n",
       "      <th>employment_status</th>\n",
       "      <th>contract_duration</th>\n",
       "      <th>main_language_at_work</th>\n",
       "      <th>company_size</th>\n",
       "      <th>company_type</th>\n",
       "      <th>lost_job_covid</th>\n",
       "    </tr>\n",
       "  </thead>\n",
       "  <tbody>\n",
       "    <tr>\n",
       "      <th>505</th>\n",
       "      <td>33.0</td>\n",
       "      <td>Male</td>\n",
       "      <td>Nuremberg</td>\n",
       "      <td>Data Scientist</td>\n",
       "      <td>2.0</td>\n",
       "      <td>Middle</td>\n",
       "      <td>Python</td>\n",
       "      <td>54000.0</td>\n",
       "      <td>30.0</td>\n",
       "      <td>Full-time employee</td>\n",
       "      <td>Unlimited contract</td>\n",
       "      <td>English</td>\n",
       "      <td>1000+</td>\n",
       "      <td>Market Research</td>\n",
       "      <td>No</td>\n",
       "    </tr>\n",
       "  </tbody>\n",
       "</table>\n",
       "</div>"
      ],
      "text/plain": [
       "      Age Gender        City        position  experience seniority_level  \\\n",
       "505  33.0   Male  Nuremberg   Data Scientist         2.0          Middle   \n",
       "\n",
       "    Main_PL  yearly_gross_salary_in_EUR  vacation_days   employment_status  \\\n",
       "505  Python                     54000.0           30.0  Full-time employee   \n",
       "\n",
       "      contract_duration main_language_at_work company_size      company_type  \\\n",
       "505  Unlimited contract               English        1000+  Market Research    \n",
       "\n",
       "    lost_job_covid  \n",
       "505             No  "
      ]
     },
     "execution_count": 556,
     "metadata": {},
     "output_type": "execute_result"
    }
   ],
   "source": [
    "df_sv20a.loc[df_sv20a['company_type'] == 'Market Research ']"
   ]
  },
  {
   "cell_type": "code",
   "execution_count": 557,
   "metadata": {},
   "outputs": [],
   "source": [
    "def replace_multiple_values(df_sv20a, company_type, old_values, new_values):\n",
    "    \n",
    "    return df_sv20a.replace({company_type: dict(zip(old_values, new_values))})\n",
    "    \n"
   ]
  },
  {
   "cell_type": "code",
   "execution_count": 558,
   "metadata": {},
   "outputs": [],
   "source": [
    "# define old and new values to replace\n",
    "old_values = ['e-commerce', 'eCommerce', 'Ecommerce', 'E-commerce', 'Corporation ', 'Outsourse', 'IT-Outsourcing', 'Outsorce', 'Financial ', 'Bank ', 'Bloody enterprise', 'Research institute', 'Market Research ']\n",
    "new_values = ['E-Commerce', 'E-Commerce', 'E-Commerce', 'E-Commerce', 'Corporation', 'Outsourcing', 'Outsourcing','Outsourcing', 'Finance', 'Bank', 'Enterprise', 'Research', 'Research']\n",
    "\n",
    "# call the function to replace values in the 'fruit' column\n",
    "df_sv20a = replace_multiple_values(df_sv20a, 'company_type', old_values, new_values)\n"
   ]
  },
  {
   "cell_type": "code",
   "execution_count": 559,
   "metadata": {},
   "outputs": [
    {
     "data": {
      "text/plain": [
       "Product                                  659\n",
       "Startup                                  202\n",
       "Consulting / Agency                      113\n",
       "E-Commerce                                 6\n",
       "Bank                                       5\n",
       "Research                                   4\n",
       "Media                                      3\n",
       "Outsourcing                                3\n",
       "Corporation                                3\n",
       "Finance                                    3\n",
       "Enterprise                                 2\n",
       "Utilities                                  2\n",
       "University                                 2\n",
       "Pharma                                     1\n",
       "Consulting and Product                     1\n",
       "Handel                                     1\n",
       "Transport & Logistics                      1\n",
       "Biergarten                                 1\n",
       "Fintech                                    1\n",
       "Non-tech retail                            1\n",
       "corporate incubator                        1\n",
       "Semiconductor                              1\n",
       "Retail                                     1\n",
       "FAANG                                      1\n",
       "Science Institute                          1\n",
       "Insurance                                  1\n",
       "SaaS                                       1\n",
       "Concern                                    1\n",
       "service                                    1\n",
       "Energy                                     1\n",
       "Publisher                                  1\n",
       "Publishing and Technology                  1\n",
       "Game Company                               1\n",
       "consumer goods                             1\n",
       "Telecommunications                         1\n",
       "IT Department of established business      1\n",
       "Automotive                                 1\n",
       "Big commercial                             1\n",
       "Behörde                                    1\n",
       "Cloud                                      1\n",
       "Old industry                               1\n",
       "Name: company_type, dtype: int64"
      ]
     },
     "execution_count": 559,
     "metadata": {},
     "output_type": "execute_result"
    }
   ],
   "source": [
    "df_sv20a.company_type.value_counts()"
   ]
  },
  {
   "cell_type": "code",
   "execution_count": 560,
   "metadata": {},
   "outputs": [
    {
     "data": {
      "text/plain": [
       "Senior                                       472\n",
       "Middle                                       310\n",
       "Lead                                         138\n",
       "Junior                                        70\n",
       "Head                                          31\n",
       "Principal                                      2\n",
       "Working Student                                1\n",
       "C-Level                                        1\n",
       "no idea, there are no ranges in the firm       1\n",
       "Student                                        1\n",
       "intern                                         1\n",
       "Director                                       1\n",
       "C-level executive manager                      1\n",
       "No level                                       1\n",
       "CTO                                            1\n",
       "Work Center Manager                            1\n",
       "VP                                             1\n",
       "student                                        1\n",
       "Name: seniority_level, dtype: int64"
      ]
     },
     "execution_count": 560,
     "metadata": {},
     "output_type": "execute_result"
    }
   ],
   "source": [
    "\n",
    "df_sv20a.seniority_level.value_counts()"
   ]
  },
  {
   "cell_type": "code",
   "execution_count": 561,
   "metadata": {},
   "outputs": [
    {
     "data": {
      "text/plain": [
       "No                                                                                        976\n",
       "Yes                                                                                        53\n",
       "i didn't but will be looking for new one because of covid                                   1\n",
       "Have been a freelancer at the beginning of year                                             1\n",
       "No, but there was a salary cut at 10% for 3 months and then at 5% for further 3 months      1\n",
       "Leads and project inquiries have slowed down                                                1\n",
       "Laid off for a bit                                                                          1\n",
       "yes but found a new one with better pay / perks                                             1\n",
       "Name: lost_job_covid, dtype: int64"
      ]
     },
     "execution_count": 561,
     "metadata": {},
     "output_type": "execute_result"
    }
   ],
   "source": [
    "df_sv20a.lost_job_covid.value_counts()"
   ]
  },
  {
   "cell_type": "code",
   "execution_count": 562,
   "metadata": {},
   "outputs": [],
   "source": [
    "# replace multiple values in columns seniority_level and lost_job_covid\n",
    "replace_dict = {'seniority_level': {'no idea, there are no ranges in the firm ': 'No level','No level ' :'No level', 'Working Student': 'intern', 'student': 'intern', 'Student' :'intern', 'VP' : 'Senior', 'CTO' : 'Senior', 'Principal' : 'Senior', 'C-Level' :'Senior', 'C-level executive manager' : 'Senior', 'Director' : 'Senior', 'Work Center Manager' :'Senior'},\n",
    "                'lost_job_covid': {\"i didn't but will be looking for new one because of covid\": 'No', 'Have been a freelancer at the beginning of year': 'No', 'No, but there was a salary cut at 10% for 3 months and then at 5% for further 3 months': 'No', 'Leads and project inquiries have slowed down' : 'No', 'Laid off for a bit' : 'Yes', 'yes but found a new one with better pay / perks' : 'Yes'}}\n",
    "df_sv20a = df_sv20a.replace(replace_dict)\n",
    "                             \n",
    "                            "
   ]
  },
  {
   "cell_type": "code",
   "execution_count": 563,
   "metadata": {},
   "outputs": [
    {
     "data": {
      "text/plain": [
       "No     980\n",
       "Yes     55\n",
       "Name: lost_job_covid, dtype: int64"
      ]
     },
     "execution_count": 563,
     "metadata": {},
     "output_type": "execute_result"
    }
   ],
   "source": [
    "df_sv20a.lost_job_covid.value_counts()"
   ]
  },
  {
   "cell_type": "code",
   "execution_count": 564,
   "metadata": {},
   "outputs": [
    {
     "data": {
      "text/plain": [
       "Senior      480\n",
       "Middle      310\n",
       "Lead        138\n",
       "Junior       70\n",
       "Head         31\n",
       "intern        4\n",
       "No level      2\n",
       "Name: seniority_level, dtype: int64"
      ]
     },
     "execution_count": 564,
     "metadata": {},
     "output_type": "execute_result"
    }
   ],
   "source": [
    "df_sv20a.seniority_level.value_counts()"
   ]
  },
  {
   "cell_type": "code",
   "execution_count": 565,
   "metadata": {},
   "outputs": [],
   "source": [
    "cmp_classes =['up to 10', '11-50', '51-100', '101-1000', '1000+']\n",
    "\n",
    "comp =pd.api.types.CategoricalDtype(ordered = True, categories= cmp_classes)\n",
    "df_sv20a['company_size'] =df_sv20a['company_size'].astype(comp)"
   ]
  },
  {
   "cell_type": "code",
   "execution_count": 566,
   "metadata": {},
   "outputs": [
    {
     "data": {
      "text/plain": [
       "1000+       376\n",
       "101-1000    340\n",
       "11-50       147\n",
       "51-100      126\n",
       "up to 10     46\n",
       "Name: company_size, dtype: int64"
      ]
     },
     "execution_count": 566,
     "metadata": {},
     "output_type": "execute_result"
    }
   ],
   "source": [
    "df_sv20a.company_size.value_counts()"
   ]
  },
  {
   "cell_type": "code",
   "execution_count": 567,
   "metadata": {},
   "outputs": [
    {
     "name": "stdout",
     "output_type": "stream",
     "text": [
      "<class 'pandas.core.frame.DataFrame'>\n",
      "Int64Index: 1035 entries, 0 to 1252\n",
      "Data columns (total 15 columns):\n",
      " #   Column                      Non-Null Count  Dtype   \n",
      "---  ------                      --------------  -----   \n",
      " 0   Age                         1035 non-null   float64 \n",
      " 1   Gender                      1035 non-null   object  \n",
      " 2   City                        1035 non-null   object  \n",
      " 3   position                    1035 non-null   object  \n",
      " 4   experience                  1035 non-null   float64 \n",
      " 5   seniority_level             1035 non-null   object  \n",
      " 6   Main_PL                     1035 non-null   object  \n",
      " 7   yearly_gross_salary_in_EUR  1035 non-null   float64 \n",
      " 8   vacation_days               1035 non-null   float64 \n",
      " 9   employment_status           1035 non-null   category\n",
      " 10  contract_duration           1035 non-null   object  \n",
      " 11  main_language_at_work       1035 non-null   object  \n",
      " 12  company_size                1035 non-null   category\n",
      " 13  company_type                1035 non-null   object  \n",
      " 14  lost_job_covid              1035 non-null   object  \n",
      "dtypes: category(2), float64(4), object(9)\n",
      "memory usage: 115.6+ KB\n"
     ]
    }
   ],
   "source": [
    "df_sv20a.info()"
   ]
  },
  {
   "cell_type": "code",
   "execution_count": 568,
   "metadata": {},
   "outputs": [],
   "source": [
    "# Lets change the datatype of column lost_job_covid to boolean\n",
    "replace_dict = {'Yes': True, 'No': False}\n",
    "df_sv20a['lost_job_covid'] = df_sv20a['lost_job_covid'].replace(replace_dict)\n",
    "\n",
    "df_sv20a['lost_job_covid'] = df_sv20a['lost_job_covid'].astype('bool')"
   ]
  },
  {
   "cell_type": "code",
   "execution_count": 569,
   "metadata": {},
   "outputs": [],
   "source": [
    "def convert_columns_to_categorical(df_sv20a, column_list):\n",
    "    for col in column_list:\n",
    "        df_sv20a[col] = df_sv20a[col].astype('category')\n",
    "    return df_sv20a"
   ]
  },
  {
   "cell_type": "code",
   "execution_count": 570,
   "metadata": {},
   "outputs": [],
   "source": [
    "df_sv20a = convert_columns_to_categorical(df_sv20a, ['Gender', 'seniority_level'])"
   ]
  },
  {
   "cell_type": "code",
   "execution_count": 571,
   "metadata": {},
   "outputs": [
    {
     "name": "stdout",
     "output_type": "stream",
     "text": [
      "<class 'pandas.core.frame.DataFrame'>\n",
      "Int64Index: 1035 entries, 0 to 1252\n",
      "Data columns (total 15 columns):\n",
      " #   Column                      Non-Null Count  Dtype   \n",
      "---  ------                      --------------  -----   \n",
      " 0   Age                         1035 non-null   float64 \n",
      " 1   Gender                      1035 non-null   category\n",
      " 2   City                        1035 non-null   object  \n",
      " 3   position                    1035 non-null   object  \n",
      " 4   experience                  1035 non-null   float64 \n",
      " 5   seniority_level             1035 non-null   category\n",
      " 6   Main_PL                     1035 non-null   object  \n",
      " 7   yearly_gross_salary_in_EUR  1035 non-null   float64 \n",
      " 8   vacation_days               1035 non-null   float64 \n",
      " 9   employment_status           1035 non-null   category\n",
      " 10  contract_duration           1035 non-null   object  \n",
      " 11  main_language_at_work       1035 non-null   object  \n",
      " 12  company_size                1035 non-null   category\n",
      " 13  company_type                1035 non-null   object  \n",
      " 14  lost_job_covid              1035 non-null   bool    \n",
      "dtypes: bool(1), category(4), float64(4), object(6)\n",
      "memory usage: 94.9+ KB\n"
     ]
    }
   ],
   "source": [
    "df_sv20a.info()"
   ]
  },
  {
   "cell_type": "code",
   "execution_count": 572,
   "metadata": {},
   "outputs": [],
   "source": [
    "df_sv20a.to_csv('2020_cleaned_survey.csv', index=False)"
   ]
  },
  {
   "attachments": {},
   "cell_type": "markdown",
   "metadata": {},
   "source": [
    "### 1. UNIVARIATE VISUALIZATION"
   ]
  },
  {
   "cell_type": "code",
   "execution_count": 573,
   "metadata": {},
   "outputs": [
    {
     "data": {
      "image/png": "[encoded data removed]",
      "text/plain": [
       "<Figure size 640x480 with 1 Axes>"
      ]
     },
     "metadata": {},
     "output_type": "display_data"
    }
   ],
   "source": [
    "sorted_counts = df_sv20a['Gender'].value_counts()\n",
    "\n",
    "plt.pie(sorted_counts, labels= sorted_counts.index, startangle= 90, autopct='%.0f%%',counterclock= False);\n",
    "plt.title('Distribution of Gender across IT workers ')\n",
    "plt.axis('square');"
   ]
  },
  {
   "cell_type": "code",
   "execution_count": 574,
   "metadata": {},
   "outputs": [
    {
     "data": {
      "image/png": "[encoded data removed]",
      "text/plain": [
       "<Figure size 1800x800 with 1 Axes>"
      ]
     },
     "metadata": {},
     "output_type": "display_data"
    }
   ],
   "source": [
    "x= df_sv20a['City'].unique()\n",
    "y= df_sv20a['City'].value_counts(sort= True)\n",
    "plt.figure(figsize=(18, 8))\n",
    "plt.bar(x,y)\n",
    "plt.xticks(rotation = 90)\n",
    "plt.title('Distribution of IT Workers Across the Cities')\n",
    "plt.xlabel('Cities')\n",
    "plt.ylabel('Count');"
   ]
  },
  {
   "cell_type": "code",
   "execution_count": 575,
   "metadata": {},
   "outputs": [
    {
     "data": {
      "image/png": "[encoded data removed]",
      "text/plain": [
       "<Figure size 640x480 with 1 Axes>"
      ]
     },
     "metadata": {},
     "output_type": "display_data"
    }
   ],
   "source": [
    "freq = df_sv20a['seniority_level'].value_counts()\n",
    "sen_order = freq.index\n",
    "sns.countplot(data=df_sv20a, x= 'seniority_level', color= sns.color_palette()[6], order =sen_order)\n",
    "plt.title('Distribution of Seniority Levels');"
   ]
  },
  {
   "cell_type": "code",
   "execution_count": 576,
   "metadata": {},
   "outputs": [
    {
     "data": {
      "image/png": "[encoded data removed]",
      "text/plain": [
       "<Figure size 640x480 with 1 Axes>"
      ]
     },
     "metadata": {},
     "output_type": "display_data"
    }
   ],
   "source": [
    "# Distribution of Experience\n",
    "sns.histplot(df_sv20a['experience'], kde=True)\n",
    "plt.title('Distribution of Experience in Years')\n",
    "plt.show();"
   ]
  },
  {
   "attachments": {},
   "cell_type": "markdown",
   "metadata": {},
   "source": [
    "### 2.BIVARIATE VISUALIZATION"
   ]
  },
  {
   "cell_type": "code",
   "execution_count": 577,
   "metadata": {},
   "outputs": [
    {
     "data": {
      "image/png": "[encoded data removed]",
      "text/plain": [
       "<Figure size 640x480 with 1 Axes>"
      ]
     },
     "metadata": {},
     "output_type": "display_data"
    }
   ],
   "source": [
    "\n",
    "sns.scatterplot(data=df_sv20a, x='experience', y='Age')\n",
    "plt.title('Relationship between Salary and Experience')\n",
    "plt.show()\n"
   ]
  },
  {
   "cell_type": "code",
   "execution_count": 578,
   "metadata": {},
   "outputs": [
    {
     "data": {
      "image/png": "[encoded data removed]",
      "text/plain": [
       "<Figure size 640x480 with 1 Axes>"
      ]
     },
     "metadata": {},
     "output_type": "display_data"
    }
   ],
   "source": [
    "sns.violinplot(data=df_sv20a, x= 'seniority_level', y='Age', color= sns.color_palette()[5], inner= None);"
   ]
  },
  {
   "cell_type": "code",
   "execution_count": 579,
   "metadata": {},
   "outputs": [
    {
     "name": "stdout",
     "output_type": "stream",
     "text": [
      "<class 'pandas.core.frame.DataFrame'>\n",
      "Int64Index: 1035 entries, 0 to 1252\n",
      "Data columns (total 15 columns):\n",
      " #   Column                      Non-Null Count  Dtype   \n",
      "---  ------                      --------------  -----   \n",
      " 0   Age                         1035 non-null   float64 \n",
      " 1   Gender                      1035 non-null   category\n",
      " 2   City                        1035 non-null   object  \n",
      " 3   position                    1035 non-null   object  \n",
      " 4   experience                  1035 non-null   float64 \n",
      " 5   seniority_level             1035 non-null   category\n",
      " 6   Main_PL                     1035 non-null   object  \n",
      " 7   yearly_gross_salary_in_EUR  1035 non-null   float64 \n",
      " 8   vacation_days               1035 non-null   float64 \n",
      " 9   employment_status           1035 non-null   category\n",
      " 10  contract_duration           1035 non-null   object  \n",
      " 11  main_language_at_work       1035 non-null   object  \n",
      " 12  company_size                1035 non-null   category\n",
      " 13  company_type                1035 non-null   object  \n",
      " 14  lost_job_covid              1035 non-null   bool    \n",
      "dtypes: bool(1), category(4), float64(4), object(6)\n",
      "memory usage: 94.9+ KB\n"
     ]
    }
   ],
   "source": [
    "df_sv20a.info()"
   ]
  },
  {
   "cell_type": "code",
   "execution_count": 580,
   "metadata": {},
   "outputs": [
    {
     "data": {
      "image/png": "[encoded data removed]",
      "text/plain": [
       "<Figure size 2100x300 with 7 Axes>"
      ]
     },
     "metadata": {},
     "output_type": "display_data"
    }
   ],
   "source": [
    "g=sns.FacetGrid(data=df_sv20a, col= 'seniority_level')\n",
    "g.map(plt.hist, \"company_size\");"
   ]
  },
  {
   "cell_type": "code",
   "execution_count": 581,
   "metadata": {},
   "outputs": [
    {
     "data": {
      "text/plain": [
       "<AxesSubplot:>"
      ]
     },
     "execution_count": 581,
     "metadata": {},
     "output_type": "execute_result"
    },
    {
     "data": {
      "image/png": "[encoded data removed]",
      "text/plain": [
       "<Figure size 640x480 with 2 Axes>"
      ]
     },
     "metadata": {},
     "output_type": "display_data"
    }
   ],
   "source": [
    "corr = df_sv20a.corr()\n",
    "sns.heatmap(corr, cmap='coolwarm', annot=True)"
   ]
  },
  {
   "cell_type": "code",
   "execution_count": 582,
   "metadata": {},
   "outputs": [
    {
     "data": {
      "text/plain": [
       "<Figure size 1000x800 with 0 Axes>"
      ]
     },
     "metadata": {},
     "output_type": "display_data"
    },
    {
     "data": {
      "image/png": "[encoded data removed]",
      "text/plain": [
       "<Figure size 640x480 with 1 Axes>"
      ]
     },
     "metadata": {},
     "output_type": "display_data"
    }
   ],
   "source": [
    "grouped = df_sv20a.groupby(['company_size', 'seniority_level'])['Age'].mean()\n",
    "plt.figure(figsize =(10,8))\n",
    "grouped.unstack().plot(kind='bar');\n",
    "\n",
    "# Add plot labels\n",
    "plt.legend(loc='upper right')\n",
    "plt.title('Mean age by Seniority level and Company Size')\n",
    "plt.xlabel('Seniority Level and Company Size')\n",
    "plt.ylabel('Mean age')\n",
    "plt.show();\n"
   ]
  },
  {
   "cell_type": "code",
   "execution_count": 583,
   "metadata": {},
   "outputs": [
    {
     "data": {
      "image/png": "[encoded data removed]",
      "text/plain": [
       "<Figure size 640x480 with 1 Axes>"
      ]
     },
     "metadata": {},
     "output_type": "display_data"
    }
   ],
   "source": [
    "sns.pointplot(data=df_sv20a, x='Gender', y= 'Age', hue='company_size').set(title='Age Across Gender and Company size')\n",
    "plt.xticks(rotation=45);"
   ]
  }
 ],
 "metadata": {
  "kernelspec": {
   "display_name": "base",
   "language": "python",
   "name": "python3"
  },
  "language_info": {
   "codemirror_mode": {
    "name": "ipython",
    "version": 3
   },
   "file_extension": ".py",
   "mimetype": "text/x-python",
   "name": "python",
   "nbconvert_exporter": "python",
   "pygments_lexer": "ipython3",
   "version": "3.9.13"
  },
  "orig_nbformat": 4,
  "vscode": {
   "interpreter": {
    "hash": "487ee80d5385ef7bf888e45e0e9ed95b47521e5b0f4e90b0536832387ccd4c81"
   }
  }
 },
 "nbformat": 4,
 "nbformat_minor": 2
}
